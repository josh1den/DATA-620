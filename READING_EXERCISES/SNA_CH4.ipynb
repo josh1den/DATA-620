{
 "cells": [
  {
   "cell_type": "markdown",
   "id": "e2d5ca6b",
   "metadata": {},
   "source": [
    "## Chapter 4: Cliques, Clusters, and Components\n",
    "\n",
    "In this chapter, we start working with progressively larger chunks of the network, analyzing not just the individuals and their connection patterns, but entire subgraphs and clusters. We'll explore what it means to be in a triad and what benefits and stresses can come from being in a structural hole. \n",
    "\n",
    "First, we will deconstruct the network by progressively removing parts to find its core(s); then we'll reconstruct the network from its constituent parts--diads, triads, cliques, clans, and clusters. \n",
    "\n",
    "### Components and Subgraphs  \n",
    "\n",
    "To start teasing apart the networks into analyzable parts, let us first make a couple definitions:\n",
    "\n",
    "- A  *subgraph* is a subset of the nodes of a network, and all of the edges linking these nodes. Any group of nodes can form a subgraph.  \n",
    "- Component subgraphs (or simply *components*) are portions of the network that are disconnected from each other. Many real networks (especially those collected with random sampling) have multiple components. One could argue that this is a sampling error (which is very possible) -- but at the same time, may just mean that the ties between components are outside of the scope of the sampling and may in fact be irrelevant.  \n",
    "\n",
    "#### Analyzing Components with Python  \n",
    "\n",
    "The Egypt uprising retweet network is a good example of a network with many components. The datafile included with this book was collected through a 1% Twitter feed and is largely incomplete. Let us load the data and examine it. NetworkX has a function for isoldating connected components (`connected_component_subgraphs(e)`); the function returns an array of Graph objects corresponding to each of the connected components:"
   ]
  },
  {
   "cell_type": "code",
   "execution_count": 1,
   "id": "c705f3cc",
   "metadata": {},
   "outputs": [
    {
     "name": "stderr",
     "output_type": "stream",
     "text": [
      "\n",
      "Bad key text.latex.unicode in file /Users/joshiden/opt/anaconda3/envs/sps620env/lib/python3.7/site-packages/matplotlib/mpl-data/stylelib/_classic_test.mplstyle, line 112 ('text.latex.unicode : False # use \"ucs\" and \"inputenc\" LaTeX packages for handling')\n",
      "You probably need to get an updated matplotlibrc file from\n",
      "https://github.com/matplotlib/matplotlib/blob/v3.5.3/matplotlibrc.template\n",
      "or from the matplotlib source distribution\n",
      "\n",
      "Bad key text.latex.preview in file /Users/joshiden/opt/anaconda3/envs/sps620env/lib/python3.7/site-packages/matplotlib/mpl-data/stylelib/_classic_test.mplstyle, line 125 ('text.latex.preview : False')\n",
      "You probably need to get an updated matplotlibrc file from\n",
      "https://github.com/matplotlib/matplotlib/blob/v3.5.3/matplotlibrc.template\n",
      "or from the matplotlib source distribution\n",
      "\n",
      "Bad key mathtext.fallback_to_cm in file /Users/joshiden/opt/anaconda3/envs/sps620env/lib/python3.7/site-packages/matplotlib/mpl-data/stylelib/_classic_test.mplstyle, line 157 ('mathtext.fallback_to_cm : True  # When True, use symbols from the Computer Modern')\n",
      "You probably need to get an updated matplotlibrc file from\n",
      "https://github.com/matplotlib/matplotlib/blob/v3.5.3/matplotlibrc.template\n",
      "or from the matplotlib source distribution\n",
      "\n",
      "Bad key savefig.jpeg_quality in file /Users/joshiden/opt/anaconda3/envs/sps620env/lib/python3.7/site-packages/matplotlib/mpl-data/stylelib/_classic_test.mplstyle, line 420 ('savefig.jpeg_quality: 95       # when a jpeg is saved, the default quality parameter.')\n",
      "You probably need to get an updated matplotlibrc file from\n",
      "https://github.com/matplotlib/matplotlib/blob/v3.5.3/matplotlibrc.template\n",
      "or from the matplotlib source distribution\n",
      "\n",
      "Bad key savefig.frameon in file /Users/joshiden/opt/anaconda3/envs/sps620env/lib/python3.7/site-packages/matplotlib/mpl-data/stylelib/_classic_test.mplstyle, line 423 ('savefig.frameon : True')\n",
      "You probably need to get an updated matplotlibrc file from\n",
      "https://github.com/matplotlib/matplotlib/blob/v3.5.3/matplotlibrc.template\n",
      "or from the matplotlib source distribution\n",
      "\n",
      "Bad key pgf.debug in file /Users/joshiden/opt/anaconda3/envs/sps620env/lib/python3.7/site-packages/matplotlib/mpl-data/stylelib/_classic_test.mplstyle, line 444 ('pgf.debug           : False')\n",
      "You probably need to get an updated matplotlibrc file from\n",
      "https://github.com/matplotlib/matplotlib/blob/v3.5.3/matplotlibrc.template\n",
      "or from the matplotlib source distribution\n",
      "\n",
      "Bad key verbose.level in file /Users/joshiden/opt/anaconda3/envs/sps620env/lib/python3.7/site-packages/matplotlib/mpl-data/stylelib/_classic_test.mplstyle, line 475 ('verbose.level  : silent      # one of silent, helpful, debug, debug-annoying')\n",
      "You probably need to get an updated matplotlibrc file from\n",
      "https://github.com/matplotlib/matplotlib/blob/v3.5.3/matplotlibrc.template\n",
      "or from the matplotlib source distribution\n",
      "\n",
      "Bad key verbose.fileo in file /Users/joshiden/opt/anaconda3/envs/sps620env/lib/python3.7/site-packages/matplotlib/mpl-data/stylelib/_classic_test.mplstyle, line 476 ('verbose.fileo  : sys.stdout  # a log filename, sys.stdout or sys.stderr')\n",
      "You probably need to get an updated matplotlibrc file from\n",
      "https://github.com/matplotlib/matplotlib/blob/v3.5.3/matplotlibrc.template\n",
      "or from the matplotlib source distribution\n",
      "\n",
      "Bad key keymap.all_axes in file /Users/joshiden/opt/anaconda3/envs/sps620env/lib/python3.7/site-packages/matplotlib/mpl-data/stylelib/_classic_test.mplstyle, line 493 ('keymap.all_axes : a                 # enable all axes')\n",
      "You probably need to get an updated matplotlibrc file from\n",
      "https://github.com/matplotlib/matplotlib/blob/v3.5.3/matplotlibrc.template\n",
      "or from the matplotlib source distribution\n",
      "\n",
      "Bad key animation.avconv_path in file /Users/joshiden/opt/anaconda3/envs/sps620env/lib/python3.7/site-packages/matplotlib/mpl-data/stylelib/_classic_test.mplstyle, line 504 ('animation.avconv_path: avconv     # Path to avconv binary. Without full path')\n",
      "You probably need to get an updated matplotlibrc file from\n",
      "https://github.com/matplotlib/matplotlib/blob/v3.5.3/matplotlibrc.template\n",
      "or from the matplotlib source distribution\n",
      "\n",
      "Bad key animation.avconv_args in file /Users/joshiden/opt/anaconda3/envs/sps620env/lib/python3.7/site-packages/matplotlib/mpl-data/stylelib/_classic_test.mplstyle, line 506 ('animation.avconv_args:            # Additional arguments to pass to avconv')\n",
      "You probably need to get an updated matplotlibrc file from\n",
      "https://github.com/matplotlib/matplotlib/blob/v3.5.3/matplotlibrc.template\n",
      "or from the matplotlib source distribution\n"
     ]
    },
    {
     "data": {
      "text/plain": [
       "25178"
      ]
     },
     "execution_count": 1,
     "metadata": {},
     "output_type": "execute_result"
    }
   ],
   "source": [
    "import networkx as nx\n",
    "import matplotlib.pyplot as plt\n",
    "\n",
    "egypt = \"/Users/joshiden/Documents/Classes/CUNY SPS/Spring 2023/DATA620/SNABook/chapter1/egypt_retweets.net\"\n",
    "e = nx.read_pajek(egypt)\n",
    "len(e)"
   ]
  },
  {
   "cell_type": "code",
   "execution_count": 2,
   "id": "2aaa23cb",
   "metadata": {},
   "outputs": [
    {
     "data": {
      "text/plain": [
       "[17762, 64, 16, 13, 11, 11, 14, 16]"
      ]
     },
     "execution_count": 2,
     "metadata": {},
     "output_type": "execute_result"
    }
   ],
   "source": [
    "[len(c) for c in nx.connected_component_subgraphs(e) if len(c) > 10]"
   ]
  },
  {
   "cell_type": "code",
   "execution_count": 3,
   "id": "eca0692e",
   "metadata": {},
   "outputs": [
    {
     "data": {
      "text/plain": [
       "3122"
      ]
     },
     "execution_count": 3,
     "metadata": {},
     "output_type": "execute_result"
    }
   ],
   "source": [
    "# connected_component_subgraphs has been deprecated. the below line produces the desired output.\n",
    "len(list(e.subgraph(c) for c in nx.connected_components(e)))"
   ]
  },
  {
   "cell_type": "markdown",
   "id": "f1fea1d3",
   "metadata": {},
   "source": [
    "What this means is that the retweet network contains ~25,000 nodes, but the network is split into over 3,000 component subgraphs. Let us now study how these component sizes are distributed:"
   ]
  },
  {
   "cell_type": "code",
   "execution_count": 4,
   "id": "84057bad",
   "metadata": {},
   "outputs": [
    {
     "data": {
      "text/plain": [
       "(array([3.121e+03, 0.000e+00, 0.000e+00, 0.000e+00, 0.000e+00, 0.000e+00,\n",
       "        0.000e+00, 0.000e+00, 0.000e+00, 1.000e+00]),\n",
       " array([1.00000e+00, 1.77710e+03, 3.55320e+03, 5.32930e+03, 7.10540e+03,\n",
       "        8.88150e+03, 1.06576e+04, 1.24337e+04, 1.42098e+04, 1.59859e+04,\n",
       "        1.77620e+04]),\n",
       " <BarContainer object of 10 artists>)"
      ]
     },
     "execution_count": 4,
     "metadata": {},
     "output_type": "execute_result"
    },
    {
     "data": {
      "image/png": "[encoded data removed]",
      "text/plain": [
       "<Figure size 640x480 with 1 Axes>"
      ]
     },
     "metadata": {},
     "output_type": "display_data"
    }
   ],
   "source": [
    "x = list(e.subgraph(c) for c in nx.connected_components(e))\n",
    "x1 = [len(c) for c in x]\n",
    "plt.hist(x1)"
   ]
  },
  {
   "cell_type": "markdown",
   "id": "0c157a03",
   "metadata": {},
   "source": [
    "#### Islands in the Net\n",
    "\n",
    "One technique for analyzing networks is called \"the island method\"; it is particularly well-suited to valued networks such as the Egypt Twitter network that we are using as sample data.\n",
    "\n",
    "The island method works as follows: imagine our network as an island with a complex terrain, where the height of each point on the terrain is defined by the value of a node (eg, degree centrality) or edge (eg, number of retweets_. \n",
    "\n",
    "The first thing we need to implement for the *island method* is a function to virtually raise the water lvele. The function below takes a graph, and applies a threshold (\"water level\"), letting all edges above a certain value through, and removing all others. It returns a copy of the original graph:"
   ]
  },
  {
   "cell_type": "code",
   "execution_count": 5,
   "id": "e1670804",
   "metadata": {},
   "outputs": [],
   "source": [
    "def trim_edges(g, weight=1):\n",
    "    g2=nx.Graph()\n",
    "    for f, to, edata in g.edges(data=True):\n",
    "        if edata['weight'] > weight:\n",
    "            g2.add_edge(f, to, edata)\n",
    "        return g2"
   ]
  },
  {
   "cell_type": "markdown",
   "id": "5fb613c3",
   "metadata": {},
   "source": [
    "Now let's define how the water level should be raised. We will compute evenly spaced thresholds and produce a list of networks at each water level:"
   ]
  },
  {
   "cell_type": "code",
   "execution_count": 6,
   "id": "56a45857",
   "metadata": {},
   "outputs": [],
   "source": [
    "def island_method(g, iterations=5):\n",
    "    weights= [edata['weight'] for f, to, edata in g.edges(data=True)]\n",
    "    \n",
    "    mn=int(min(weights))\n",
    "    mx=int(max(weights))\n",
    "    \n",
    "    # compute the size of the step, so we get a reasonable step in iterations\n",
    "    step=int((mx-mn)/iterations)\n",
    "    \n",
    "    return [[threshold, trim_edges(g, threshold)] for threshold in range(mn,mx,step)]"
   ]
  },
  {
   "cell_type": "markdown",
   "id": "99d83d43",
   "metadata": {},
   "source": [
    "Now let's isolate the biggest component of the Egypt Retweet Network, and separate it into subparts using the island method:"
   ]
  },
  {
   "cell_type": "code",
   "execution_count": 7,
   "id": "eee50790",
   "metadata": {},
   "outputs": [
    {
     "name": "stdout",
     "output_type": "stream",
     "text": [
      "1 2 1\n",
      "62 0 0\n",
      "123 0 0\n",
      "184 0 0\n",
      "245 0 0\n"
     ]
    }
   ],
   "source": [
    "cc = list(e.subgraph(c) for c in nx.connected_components(e))[0]\n",
    "islands = island_method(cc)\n",
    "for i in islands:\n",
    "    print(i[0], len(i[1]), len(list(nx.connected_component_subgraphs(i[1]))))"
   ]
  },
  {
   "cell_type": "code",
   "execution_count": 8,
   "id": "d21800c8",
   "metadata": {},
   "outputs": [],
   "source": [
    "cc = (e.subgraph(c) for c in nx.connected_components(e))"
   ]
  },
  {
   "cell_type": "code",
   "execution_count": 9,
   "id": "e22f1ee8",
   "metadata": {},
   "outputs": [],
   "source": [
    "def connected_component_subgraphs(G):\n",
    "    for c in nx.connected_components(G):\n",
    "        yield G.subgraph(c)[0]"
   ]
  },
  {
   "cell_type": "code",
   "execution_count": 10,
   "id": "677332cb",
   "metadata": {},
   "outputs": [],
   "source": [
    "cc = connected_component_subgraphs(e)"
   ]
  },
  {
   "cell_type": "code",
   "execution_count": 11,
   "id": "3cd4729c",
   "metadata": {},
   "outputs": [
    {
     "ename": "AttributeError",
     "evalue": "'generator' object has no attribute 'edges'",
     "output_type": "error",
     "traceback": [
      "\u001b[0;31m---------------------------------------------------------------------------\u001b[0m",
      "\u001b[0;31mAttributeError\u001b[0m                            Traceback (most recent call last)",
      "\u001b[0;32m/var/folders/82/s2jpfjnx23x79yzgnlx3kx_h0000gp/T/ipykernel_84151/2848819496.py\u001b[0m in \u001b[0;36m<module>\u001b[0;34m\u001b[0m\n\u001b[0;32m----> 1\u001b[0;31m \u001b[0misland_method\u001b[0m\u001b[0;34m(\u001b[0m\u001b[0mcc\u001b[0m\u001b[0;34m)\u001b[0m\u001b[0;34m\u001b[0m\u001b[0;34m\u001b[0m\u001b[0m\n\u001b[0m",
      "\u001b[0;32m/var/folders/82/s2jpfjnx23x79yzgnlx3kx_h0000gp/T/ipykernel_84151/762072484.py\u001b[0m in \u001b[0;36misland_method\u001b[0;34m(g, iterations)\u001b[0m\n\u001b[1;32m      1\u001b[0m \u001b[0;32mdef\u001b[0m \u001b[0misland_method\u001b[0m\u001b[0;34m(\u001b[0m\u001b[0mg\u001b[0m\u001b[0;34m,\u001b[0m \u001b[0miterations\u001b[0m\u001b[0;34m=\u001b[0m\u001b[0;36m5\u001b[0m\u001b[0;34m)\u001b[0m\u001b[0;34m:\u001b[0m\u001b[0;34m\u001b[0m\u001b[0;34m\u001b[0m\u001b[0m\n\u001b[0;32m----> 2\u001b[0;31m     \u001b[0mweights\u001b[0m\u001b[0;34m=\u001b[0m \u001b[0;34m[\u001b[0m\u001b[0medata\u001b[0m\u001b[0;34m[\u001b[0m\u001b[0;34m'weight'\u001b[0m\u001b[0;34m]\u001b[0m \u001b[0;32mfor\u001b[0m \u001b[0mf\u001b[0m\u001b[0;34m,\u001b[0m \u001b[0mto\u001b[0m\u001b[0;34m,\u001b[0m \u001b[0medata\u001b[0m \u001b[0;32min\u001b[0m \u001b[0mg\u001b[0m\u001b[0;34m.\u001b[0m\u001b[0medges\u001b[0m\u001b[0;34m(\u001b[0m\u001b[0mdata\u001b[0m\u001b[0;34m=\u001b[0m\u001b[0;32mTrue\u001b[0m\u001b[0;34m)\u001b[0m\u001b[0;34m]\u001b[0m\u001b[0;34m\u001b[0m\u001b[0;34m\u001b[0m\u001b[0m\n\u001b[0m\u001b[1;32m      3\u001b[0m \u001b[0;34m\u001b[0m\u001b[0m\n\u001b[1;32m      4\u001b[0m     \u001b[0mmn\u001b[0m\u001b[0;34m=\u001b[0m\u001b[0mint\u001b[0m\u001b[0;34m(\u001b[0m\u001b[0mmin\u001b[0m\u001b[0;34m(\u001b[0m\u001b[0mweights\u001b[0m\u001b[0;34m)\u001b[0m\u001b[0;34m)\u001b[0m\u001b[0;34m\u001b[0m\u001b[0;34m\u001b[0m\u001b[0m\n\u001b[1;32m      5\u001b[0m     \u001b[0mmx\u001b[0m\u001b[0;34m=\u001b[0m\u001b[0mint\u001b[0m\u001b[0;34m(\u001b[0m\u001b[0mmax\u001b[0m\u001b[0;34m(\u001b[0m\u001b[0mweights\u001b[0m\u001b[0;34m)\u001b[0m\u001b[0;34m)\u001b[0m\u001b[0;34m\u001b[0m\u001b[0;34m\u001b[0m\u001b[0m\n",
      "\u001b[0;31mAttributeError\u001b[0m: 'generator' object has no attribute 'edges'"
     ]
    }
   ],
   "source": [
    "island_method(cc)"
   ]
  },
  {
   "cell_type": "code",
   "execution_count": null,
   "id": "bd98cd40",
   "metadata": {},
   "outputs": [],
   "source": [
    "list(cc)[0]"
   ]
  },
  {
   "cell_type": "code",
   "execution_count": null,
   "id": "37db7b49",
   "metadata": {},
   "outputs": [],
   "source": [
    "S = [e.subgraph(c).copy() for c in nx.connected_components(e)]"
   ]
  },
  {
   "cell_type": "code",
   "execution_count": null,
   "id": "6f78c50a",
   "metadata": {},
   "outputs": [],
   "source": [
    "largest_cc = max(nx.connected_components(e), key=len)"
   ]
  },
  {
   "cell_type": "code",
   "execution_count": null,
   "id": "5015f614",
   "metadata": {},
   "outputs": [],
   "source": [
    "largest_cc"
   ]
  },
  {
   "cell_type": "code",
   "execution_count": null,
   "id": "5fe7360c",
   "metadata": {},
   "outputs": [],
   "source": [
    "e.edges(data=True)"
   ]
  },
  {
   "cell_type": "code",
   "execution_count": null,
   "id": "63192da1",
   "metadata": {},
   "outputs": [],
   "source": [
    "# find cliques\n",
    "\n",
    "print(list(nx.find_cliques(e)))"
   ]
  },
  {
   "cell_type": "code",
   "execution_count": null,
   "id": "3cc0bc5e",
   "metadata": {},
   "outputs": [],
   "source": [
    "list(e.edges)[:5]"
   ]
  },
  {
   "cell_type": "markdown",
   "id": "5c41159f",
   "metadata": {},
   "source": [
    "The book provides python examples using code that is deprecated, so I will try to move forward with notes outlining the concepts and incorporate the concepts into this week's assignment"
   ]
  },
  {
   "cell_type": "markdown",
   "id": "e1b6513f",
   "metadata": {},
   "source": [
    "**Island Method** splitting the giant component into smaller components, and areas with the strongest amount of **subcores** become their own components that can be analyzed separately. \n",
    "\n",
    "**Steps**\n",
    "\n",
    "1. Define a function to apply a threshold that lets edges above a certain value through, and removes all others.\n",
    "2. Next, define a function that computes evenly spaced thresholds and produces a list of networks at each level. \n",
    "3. Isolate the biggest component and separate into subparts. "
   ]
  },
  {
   "cell_type": "markdown",
   "id": "471d6371",
   "metadata": {},
   "source": [
    "#### Subgraphs -- Ego Networks\n",
    "\n",
    "**Ego networks** are subnetworks that are centered on a certain node. On Facebook and LinkedIn, these are simply described as \"your network\" -- but you can only access your own ego networks, and can't do a broader survey. \n",
    "\n",
    "We derive ego networks by running a breadth-first search and limiting the depth (network radius) to a small value, usually not more than 3. While in traditional BFS we build a tree of links we followed to get to a node, to produce an ego network we capture *all* links between node's neighbors. "
   ]
  },
  {
   "cell_type": "markdown",
   "id": "5ec0fd53",
   "metadata": {},
   "source": [
    "#### Extracting and Visualizing Ego Networks with Python\n",
    "\n",
    "A couple simple metrics stand out. Knowing the size of an ego network is important to understand the reach of the information that a person can transmit (or conversely, have access to).\n",
    "\n",
    "The other metric is called *clustering coefficient* -- essentially, it measures the proportion of you r friends that are also friends with each other. \n",
    "\n",
    "In ego networks, the interpretation is simple -- dense ego networks with a lot of mutual trust have a high clustering coefficient. Star networks with a single broadcast node and passive listeners have a low clustering coefficient. \n",
    "\n",
    "### Triads  \n",
    "\n",
    "**Triads** are three nodes interlinked in some way."
   ]
  }
 ],
 "metadata": {
  "kernelspec": {
   "display_name": "Python 3 (ipykernel)",
   "language": "python",
   "name": "python3"
  },
  "language_info": {
   "codemirror_mode": {
    "name": "ipython",
    "version": 3
   },
   "file_extension": ".py",
   "mimetype": "text/x-python",
   "name": "python",
   "nbconvert_exporter": "python",
   "pygments_lexer": "ipython3",
   "version": "3.7.16"
  }
 },
 "nbformat": 4,
 "nbformat_minor": 5
}
