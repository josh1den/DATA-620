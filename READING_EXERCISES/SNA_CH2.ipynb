{
 "cells": [
  {
   "cell_type": "markdown",
   "id": "2498ad87",
   "metadata": {},
   "source": [
    "### Depth-First Traversal"
   ]
  },
  {
   "cell_type": "markdown",
   "id": "95317652",
   "metadata": {},
   "source": [
    "Depth-first search (DFS) is an uninformed search that systematically traverses nodes until it finds its goal. in the context of a tree, DFS involves descending down a child's child, iteratively, and then backtracking and turning to each of its siblings--in orther words, it prefers to go deep before going broad. In a graph there are no children or siblings, only neighbors. However, DFS can produce a *spanning tree* of the nodes it has visited. \n",
    "\n",
    "Here is the DFS algorithim, simplistically described:\n",
    "\n",
    "- Start at some node $n$  \n",
    "- Mark $n$ as visited  \n",
    "- For each neighbor $n_i$  of $n$ where $n_i$ has not been visited, recursively apply DFS node $n_i$\n",
    "\n",
    "#### Implementation"
   ]
  },
  {
   "cell_type": "code",
   "execution_count": 7,
   "id": "48f715aa",
   "metadata": {},
   "outputs": [],
   "source": [
    "# a list of nodes in the order they were visited\n",
    "\n",
    "def DFS_nodes(graph, node, visited=[]):\n",
    "    visited.append(node)\n",
    "    for neighbor in graph[node]:\n",
    "        if not neighbor in visited:\n",
    "            DFS_nodes(graph, neighbor, visited)\n",
    "    return visited\n",
    "\n",
    "# a list of edges in the order they were traversed. This does not include back edges\n",
    "\n",
    "def DFS_edges(graph, node, visited=[], edges=[]):\n",
    "    visited.append(node)\n",
    "    for ni in graph[node]:\n",
    "        if not ni in visited:\n",
    "            edges.append((node, ni))\n",
    "            DFS_edges(graph, ni, visited, edges)\n",
    "    return edges"
   ]
  },
  {
   "cell_type": "code",
   "execution_count": 4,
   "id": "56c926d9",
   "metadata": {},
   "outputs": [],
   "source": [
    "import networkx.generators.small as nx\n",
    "g = nx.krackhardt_kite_graph()"
   ]
  },
  {
   "cell_type": "code",
   "execution_count": 5,
   "id": "1dfb92e6",
   "metadata": {},
   "outputs": [
    {
     "data": {
      "text/plain": [
       "[0, 1, 3, 2, 5, 6, 4, 7, 8, 9]"
      ]
     },
     "execution_count": 5,
     "metadata": {},
     "output_type": "execute_result"
    }
   ],
   "source": [
    "DFS_nodes(g, 0)"
   ]
  },
  {
   "cell_type": "code",
   "execution_count": 8,
   "id": "70bd7b4b",
   "metadata": {},
   "outputs": [
    {
     "data": {
      "text/plain": [
       "[(0, 1), (1, 3), (3, 2), (2, 5), (5, 6), (6, 4), (6, 7), (7, 8), (8, 9)]"
      ]
     },
     "execution_count": 8,
     "metadata": {},
     "output_type": "execute_result"
    }
   ],
   "source": [
    "DFS_edges(g, 0)"
   ]
  },
  {
   "cell_type": "markdown",
   "id": "e5e06b27",
   "metadata": {},
   "source": [
    "## DFS with NetworkX\n",
    "\n",
    "NetworkX provides a DFS implementation by D. Eppstein"
   ]
  },
  {
   "cell_type": "code",
   "execution_count": 13,
   "id": "c40e20f4",
   "metadata": {},
   "outputs": [
    {
     "data": {
      "text/plain": [
       "<generator object dfs_edges at 0x7fca86919430>"
      ]
     },
     "execution_count": 13,
     "metadata": {},
     "output_type": "execute_result"
    }
   ],
   "source": [
    "from networkx import traversal \n",
    "\n",
    "edges = traversal.dfs_edges(g)\n",
    "edges"
   ]
  },
  {
   "cell_type": "code",
   "execution_count": 14,
   "id": "8393e95a",
   "metadata": {},
   "outputs": [
    {
     "data": {
      "text/plain": [
       "[(0, 1), (1, 3), (3, 2), (2, 5), (5, 6), (6, 4), (6, 7), (7, 8), (8, 9)]"
      ]
     },
     "execution_count": 14,
     "metadata": {},
     "output_type": "execute_result"
    }
   ],
   "source": [
    "list(edges)"
   ]
  },
  {
   "cell_type": "markdown",
   "id": "652bb7cc",
   "metadata": {},
   "source": [
    "We can get a more conventional tree view with a successor dictionary:"
   ]
  },
  {
   "cell_type": "code",
   "execution_count": 15,
   "id": "16a58363",
   "metadata": {},
   "outputs": [
    {
     "data": {
      "text/plain": [
       "{0: [1], 1: [3], 3: [2], 2: [5], 5: [6], 6: [4, 7], 7: [8], 8: [9]}"
      ]
     },
     "execution_count": 15,
     "metadata": {},
     "output_type": "execute_result"
    }
   ],
   "source": [
    "traversal.dfs_successors(g)"
   ]
  },
  {
   "cell_type": "code",
   "execution_count": 16,
   "id": "9b75d025",
   "metadata": {},
   "outputs": [
    {
     "data": {
      "text/plain": [
       "{1: 0, 3: 1, 2: 3, 5: 2, 6: 5, 4: 6, 7: 6, 8: 7, 9: 8}"
      ]
     },
     "execution_count": 16,
     "metadata": {},
     "output_type": "execute_result"
    }
   ],
   "source": [
    "# predecessors are available -- a view of the tree upside down\n",
    "traversal.dfs_predecessors(g)"
   ]
  },
  {
   "cell_type": "code",
   "execution_count": 17,
   "id": "4b34f44d",
   "metadata": {},
   "outputs": [
    {
     "data": {
      "text/plain": [
       "[2]"
      ]
     },
     "execution_count": 17,
     "metadata": {},
     "output_type": "execute_result"
    }
   ],
   "source": [
    "# this is all just lists and dictionaries\n",
    "traversal.dfs_successors(g)[3]"
   ]
  },
  {
   "cell_type": "markdown",
   "id": "b29135d8",
   "metadata": {},
   "source": [
    "Finally, we can produce a directed graph representing the DFS traversal:"
   ]
  },
  {
   "cell_type": "code",
   "execution_count": 22,
   "id": "674d0c7f",
   "metadata": {},
   "outputs": [
    {
     "data": {
      "text/plain": [
       "<networkx.classes.digraph.DiGraph at 0x7fca85ed7d90>"
      ]
     },
     "execution_count": 22,
     "metadata": {},
     "output_type": "execute_result"
    }
   ],
   "source": [
    "tree = traversal.dfs_tree(g)\n",
    "tree"
   ]
  },
  {
   "cell_type": "code",
   "execution_count": 23,
   "id": "4ee66dea",
   "metadata": {},
   "outputs": [
    {
     "data": {
      "text/plain": [
       "<dict_keyiterator at 0x7fca869cec20>"
      ]
     },
     "execution_count": 23,
     "metadata": {},
     "output_type": "execute_result"
    }
   ],
   "source": [
    "tree.successors(0)"
   ]
  },
  {
   "cell_type": "code",
   "execution_count": 24,
   "id": "2e07d27a",
   "metadata": {},
   "outputs": [
    {
     "data": {
      "text/plain": [
       "AdjacencyView({0: {1: {}}, 1: {3: {}}, 2: {5: {}}, 3: {2: {}}, 4: {}, 5: {6: {}}, 6: {4: {}, 7: {}}, 7: {8: {}}, 8: {9: {}}, 9: {}})"
      ]
     },
     "execution_count": 24,
     "metadata": {},
     "output_type": "execute_result"
    }
   ],
   "source": [
    "tree.succ"
   ]
  },
  {
   "cell_type": "markdown",
   "id": "df1f4e2d",
   "metadata": {},
   "source": [
    "### Breadth-First Traversal\n",
    "\n",
    "Breadth-first traversal is the **opposite** of DFS -- it visits all of the immediate neighbors first and only then proceeds to their neighbors. \n",
    "\n",
    "#### Algorithm\n",
    "\n",
    "The difference is the order in which they traverse encountered nodes. \n",
    "\n",
    "DFS will explore a new neighbor node immediately as it sees it whereas BFS must store each neighbor until it has seen them all, and only then descend down each one.\n",
    "\n",
    "As a consequence, there is no natural recursive form for BFS.\n",
    "\n",
    "#### BFS with NetworkX\n",
    "\n",
    "The interface is similar to DFS, which one distinction: a starting node must be specified."
   ]
  },
  {
   "cell_type": "code",
   "execution_count": 25,
   "id": "c73425de",
   "metadata": {},
   "outputs": [
    {
     "data": {
      "text/plain": [
       "[(0, 1), (0, 2), (0, 3), (0, 5), (1, 4), (1, 6), (5, 7), (7, 8), (8, 9)]"
      ]
     },
     "execution_count": 25,
     "metadata": {},
     "output_type": "execute_result"
    }
   ],
   "source": [
    "edges = traversal.bfs_edges(g, 0)\n",
    "list(edges)"
   ]
  },
  {
   "cell_type": "code",
   "execution_count": 26,
   "id": "19bace43",
   "metadata": {},
   "outputs": [
    {
     "data": {
      "text/plain": [
       "<networkx.classes.digraph.DiGraph at 0x7fca85edd430>"
      ]
     },
     "execution_count": 26,
     "metadata": {},
     "output_type": "execute_result"
    }
   ],
   "source": [
    "tree = traversal.bfs_tree(g, 0)\n",
    "tree"
   ]
  },
  {
   "cell_type": "markdown",
   "id": "12f5203c",
   "metadata": {},
   "source": [
    "The difference between DFS and BFS traversal trees is clearly visible. "
   ]
  },
  {
   "cell_type": "code",
   "execution_count": 31,
   "id": "a2578264",
   "metadata": {},
   "outputs": [
    {
     "data": {
      "text/plain": [
       "<generator object bfs_successors at 0x7fca866cdc80>"
      ]
     },
     "execution_count": 31,
     "metadata": {},
     "output_type": "execute_result"
    }
   ],
   "source": [
    "traversal.bfs_successors(g, 0)"
   ]
  },
  {
   "cell_type": "code",
   "execution_count": 32,
   "id": "f3eec726",
   "metadata": {},
   "outputs": [
    {
     "data": {
      "text/plain": [
       "{0: [1], 1: [3], 3: [2], 2: [5], 5: [6], 6: [4, 7], 7: [8], 8: [9]}"
      ]
     },
     "execution_count": 32,
     "metadata": {},
     "output_type": "execute_result"
    }
   ],
   "source": [
    "traversal.dfs_successors(g, 0)"
   ]
  },
  {
   "cell_type": "markdown",
   "id": "6f6777fe",
   "metadata": {},
   "source": [
    "### Paths and Walks\n",
    "\n",
    "A **walk** is an alternating sequence of nodes and edges that connect them. A walk is open if the starting and ending nodes are different and closed otherwise. The length of the walk is the number of edges. \n",
    "\n",
    "A **path** is an open simple (where no node is crossed twice) walk. A closed simple walk is a **cycle**. Formally, a path can have a length 0, where a cycle cannot. \n",
    "\n",
    "Paths and cycles are essential to understanding the structure of graphs and quantifying that with machines. NetworkX provides a number of path algorithms:"
   ]
  },
  {
   "cell_type": "code",
   "execution_count": 33,
   "id": "68c566fd",
   "metadata": {},
   "outputs": [
    {
     "data": {
      "text/plain": [
       "[0, 5]"
      ]
     },
     "execution_count": 33,
     "metadata": {},
     "output_type": "execute_result"
    }
   ],
   "source": [
    "from networkx import algorithms\n",
    "\n",
    "algorithms.shortest_path(g, 0, 5)"
   ]
  },
  {
   "cell_type": "code",
   "execution_count": 34,
   "id": "8a71c988",
   "metadata": {},
   "outputs": [
    {
     "data": {
      "text/plain": [
       "[0, 5, 7]"
      ]
     },
     "execution_count": 34,
     "metadata": {},
     "output_type": "execute_result"
    }
   ],
   "source": [
    "algorithms.shortest_path(g, 0, 7)"
   ]
  },
  {
   "cell_type": "code",
   "execution_count": 35,
   "id": "0d04fced",
   "metadata": {},
   "outputs": [
    {
     "data": {
      "text/plain": [
       "1.9777777777777779"
      ]
     },
     "execution_count": 35,
     "metadata": {},
     "output_type": "execute_result"
    }
   ],
   "source": [
    "algorithms.average_shortest_path_length(g)"
   ]
  },
  {
   "cell_type": "markdown",
   "id": "521459b6",
   "metadata": {},
   "source": [
    "We can even list the shortest paths in a graph:"
   ]
  },
  {
   "cell_type": "code",
   "execution_count": 48,
   "id": "35734c07",
   "metadata": {},
   "outputs": [
    {
     "data": {
      "text/plain": [
       "(0,\n",
       " {0: [0],\n",
       "  1: [0, 1],\n",
       "  2: [0, 2],\n",
       "  3: [0, 3],\n",
       "  5: [0, 5],\n",
       "  4: [0, 1, 4],\n",
       "  6: [0, 1, 6],\n",
       "  7: [0, 5, 7],\n",
       "  8: [0, 5, 7, 8],\n",
       "  9: [0, 5, 7, 8, 9]})"
      ]
     },
     "execution_count": 48,
     "metadata": {},
     "output_type": "execute_result"
    }
   ],
   "source": [
    "path = algorithms.all_pairs_shortest_path(g)\n",
    "next(path)"
   ]
  },
  {
   "cell_type": "markdown",
   "id": "9ab84e7a",
   "metadata": {},
   "source": [
    "### Dijkstra's Algorithm\n",
    "\n",
    "A special mention goes to a graph search algorithm published by Edsger Dijkstra in 1959. For a given vertext it finds the lowest cost path to all other vertices, where \"cost\" is determined by summing edge weights. In graphs where edge weights correspond to distance (in unweighted graphs the weights are assumed to be one) the found path is the shortest. The algorithm can also determine the lowest cost path between two given vertices: "
   ]
  },
  {
   "cell_type": "code",
   "execution_count": 54,
   "id": "9a8be53d",
   "metadata": {},
   "outputs": [
    {
     "data": {
      "text/plain": [
       "[1, 0, 5]"
      ]
     },
     "execution_count": 54,
     "metadata": {},
     "output_type": "execute_result"
    }
   ],
   "source": [
    "algorithms.dijkstra_path(g, 1, 5)"
   ]
  },
  {
   "cell_type": "code",
   "execution_count": 55,
   "id": "71156be0",
   "metadata": {},
   "outputs": [
    {
     "data": {
      "text/plain": [
       "({1: [],\n",
       "  0: [1],\n",
       "  3: [1],\n",
       "  4: [1],\n",
       "  6: [1],\n",
       "  2: [0, 3],\n",
       "  5: [0, 3, 6],\n",
       "  7: [6],\n",
       "  8: [7],\n",
       "  9: [8]},\n",
       " {1: 0, 0: 1, 3: 1, 4: 1, 6: 1, 2: 2, 5: 2, 7: 2, 8: 3, 9: 4})"
      ]
     },
     "execution_count": 55,
     "metadata": {},
     "output_type": "execute_result"
    }
   ],
   "source": [
    "algorithms.dijkstra_predecessor_and_distance(g, 1, 5)"
   ]
  },
  {
   "cell_type": "markdown",
   "id": "173a6cfd",
   "metadata": {},
   "source": [
    "We can compare the shortest path algorithms with relative ease. First we will need node pairs:"
   ]
  },
  {
   "cell_type": "code",
   "execution_count": 56,
   "id": "8a7bdc82",
   "metadata": {},
   "outputs": [
    {
     "data": {
      "text/plain": [
       "NodeView((0, 1, 2, 3, 4, 5, 6, 7, 8, 9))"
      ]
     },
     "execution_count": 56,
     "metadata": {},
     "output_type": "execute_result"
    }
   ],
   "source": [
    "import itertools \n",
    "\n",
    "g.nodes()"
   ]
  },
  {
   "cell_type": "code",
   "execution_count": 58,
   "id": "ee74be8b",
   "metadata": {},
   "outputs": [
    {
     "data": {
      "text/plain": [
       "[(0, 1),\n",
       " (0, 2),\n",
       " (0, 3),\n",
       " (0, 4),\n",
       " (0, 5),\n",
       " (0, 6),\n",
       " (0, 7),\n",
       " (0, 8),\n",
       " (0, 9),\n",
       " (1, 2),\n",
       " (1, 3),\n",
       " (1, 4),\n",
       " (1, 5),\n",
       " (1, 6),\n",
       " (1, 7),\n",
       " (1, 8),\n",
       " (1, 9),\n",
       " (2, 3),\n",
       " (2, 4),\n",
       " (2, 5),\n",
       " (2, 6),\n",
       " (2, 7),\n",
       " (2, 8),\n",
       " (2, 9),\n",
       " (3, 4),\n",
       " (3, 5),\n",
       " (3, 6),\n",
       " (3, 7),\n",
       " (3, 8),\n",
       " (3, 9),\n",
       " (4, 5),\n",
       " (4, 6),\n",
       " (4, 7),\n",
       " (4, 8),\n",
       " (4, 9),\n",
       " (5, 6),\n",
       " (5, 7),\n",
       " (5, 8),\n",
       " (5, 9),\n",
       " (6, 7),\n",
       " (6, 8),\n",
       " (6, 9),\n",
       " (7, 8),\n",
       " (7, 9),\n",
       " (8, 9)]"
      ]
     },
     "execution_count": 58,
     "metadata": {},
     "output_type": "execute_result"
    }
   ],
   "source": [
    "list(itertools.combinations(g.nodes(), 2))"
   ]
  },
  {
   "cell_type": "markdown",
   "id": "3cc62d37",
   "metadata": {},
   "source": [
    "Note that because our graph is undirected we don't need to look at reverse paths, but even this may be a little too much. For brevity, we can limit the node space to, say, first 4 nodes, using Python's array slicing syntax: "
   ]
  },
  {
   "cell_type": "code",
   "execution_count": 59,
   "id": "4bc0a0ff",
   "metadata": {},
   "outputs": [
    {
     "data": {
      "text/plain": [
       "NodeView((0, 1, 2, 3, 4, 5, 6, 7, 8, 9))"
      ]
     },
     "execution_count": 59,
     "metadata": {},
     "output_type": "execute_result"
    }
   ],
   "source": [
    "nn = g.nodes()\n",
    "nn"
   ]
  },
  {
   "cell_type": "code",
   "execution_count": 61,
   "id": "7ba949dd",
   "metadata": {},
   "outputs": [
    {
     "data": {
      "text/plain": [
       "[0, 1, 2, 3]"
      ]
     },
     "execution_count": 61,
     "metadata": {},
     "output_type": "execute_result"
    }
   ],
   "source": [
    "list(nn)[:4]"
   ]
  },
  {
   "cell_type": "code",
   "execution_count": 62,
   "id": "09e7c85c",
   "metadata": {},
   "outputs": [
    {
     "data": {
      "text/plain": [
       "[(0, 1), (0, 2), (0, 3), (1, 2), (1, 3), (2, 3)]"
      ]
     },
     "execution_count": 62,
     "metadata": {},
     "output_type": "execute_result"
    }
   ],
   "source": [
    "pairs = list(itertools.combinations(list(nn)[:4], 2))\n",
    "pairs"
   ]
  },
  {
   "cell_type": "markdown",
   "id": "1d332983",
   "metadata": {},
   "source": [
    "Using another Python technique, argument array expansion, we can look at them side by side: "
   ]
  },
  {
   "cell_type": "code",
   "execution_count": 64,
   "id": "c704b908",
   "metadata": {},
   "outputs": [
    {
     "name": "stdout",
     "output_type": "stream",
     "text": [
      "[0, 1]\n",
      "[0, 2]\n",
      "[0, 3]\n",
      "[0, 1, 4]\n",
      "[0, 5]\n",
      "[0, 1, 6]\n",
      "[0, 5, 7]\n",
      "[1, 0, 2]\n",
      "[1, 3]\n",
      "[1, 4]\n",
      "[1, 0, 5]\n",
      "[1, 6]\n",
      "[1, 6, 7]\n",
      "[2, 3]\n",
      "[2, 3, 4]\n",
      "[2, 5]\n",
      "[2, 3, 6]\n",
      "[2, 5, 7]\n",
      "[3, 4]\n",
      "[3, 5]\n",
      "[3, 6]\n",
      "[3, 5, 7]\n",
      "[4, 3, 5]\n",
      "[4, 6]\n",
      "[4, 6, 7]\n",
      "[5, 6]\n",
      "[5, 7]\n",
      "[6, 7]\n"
     ]
    }
   ],
   "source": [
    "for pair in itertools.combinations(list(nn)[:8], 2):\n",
    "    print(algorithms.shortest_path(g, *pair)), \n",
    "    algorithms.dijkstra_path(g, *pair)"
   ]
  },
  {
   "cell_type": "markdown",
   "id": "1eabc6c3",
   "metadata": {},
   "source": [
    "They are the same. But what about weights? We can throw some random weights at the graph and see what happens. We do this by constructing a list of node-node-weight triples from the list of node pairs. For our eyes sakes let us use integer weights between 1 and 10:"
   ]
  },
  {
   "cell_type": "code",
   "execution_count": 68,
   "id": "2e4637eb",
   "metadata": {},
   "outputs": [
    {
     "data": {
      "text/plain": [
       "[(0, 1, 7),\n",
       " (0, 2, 0),\n",
       " (0, 3, 0),\n",
       " (0, 5, 0),\n",
       " (1, 3, 6),\n",
       " (1, 4, 9),\n",
       " (1, 6, 4),\n",
       " (2, 3, 8),\n",
       " (2, 5, 3),\n",
       " (3, 4, 5),\n",
       " (3, 5, 3),\n",
       " (3, 6, 7),\n",
       " (4, 6, 2),\n",
       " (5, 6, 1),\n",
       " (5, 7, 5),\n",
       " (6, 7, 0),\n",
       " (7, 8, 6),\n",
       " (8, 9, 2)]"
      ]
     },
     "execution_count": 68,
     "metadata": {},
     "output_type": "execute_result"
    }
   ],
   "source": [
    "from random import choice\n",
    "\n",
    "new_edges = [x + (choice(range(10)),) for x in g.edges()]\n",
    "new_edges"
   ]
  },
  {
   "cell_type": "code",
   "execution_count": 69,
   "id": "0363599b",
   "metadata": {},
   "outputs": [],
   "source": [
    "g.clear()\n",
    "g.add_weighted_edges_from(new_edges)"
   ]
  },
  {
   "cell_type": "markdown",
   "id": "7286b645",
   "metadata": {},
   "source": [
    "Now we can compare the paths again:"
   ]
  },
  {
   "cell_type": "code",
   "execution_count": 79,
   "id": "dbd2e305",
   "metadata": {},
   "outputs": [
    {
     "name": "stdout",
     "output_type": "stream",
     "text": [
      "[0, 1]\n",
      "[0, 2]\n",
      "[0, 3]\n",
      "[0, 5]\n",
      "[0, 1, 4]\n",
      "[0, 1, 6]\n",
      "[0, 5, 7]\n",
      "[1, 0, 2]\n",
      "[1, 3]\n",
      "[1, 0, 5]\n",
      "[1, 4]\n",
      "[1, 6]\n",
      "[1, 6, 7]\n",
      "[2, 3]\n",
      "[2, 5]\n",
      "[2, 3, 4]\n",
      "[2, 3, 6]\n",
      "[2, 5, 7]\n",
      "[3, 5]\n",
      "[3, 4]\n",
      "[3, 6]\n",
      "[3, 5, 7]\n",
      "[5, 3, 4]\n",
      "[5, 6]\n",
      "[5, 7]\n",
      "[4, 6]\n",
      "[4, 6, 7]\n",
      "[6, 7]\n"
     ]
    }
   ],
   "source": [
    "for pair in itertools.combinations(list(nn)[:8], 2):\n",
    "    print(algorithms.shortest_path(g, *pair)), \n",
    "    algorithms.dijkstra_path(g, *pair)"
   ]
  },
  {
   "cell_type": "markdown",
   "id": "952e5add",
   "metadata": {},
   "source": [
    "### Graph Distance\n",
    "\n",
    "Graph distance can be measured a number of ways:\n",
    "\n",
    "**Shortest path (unweighted graph)**\n",
    "- The simplest measure of distance; the number of edges one must walk from A to B\n",
    "\n",
    "**Cost-based shortest path (weighted graph)**  \n",
    "- In a *weighted* graph, every edge has an associated value, called *weight*. This value could, for example, represent the physical distance between two points on a topographic map. Naturally, the distance from A to B will be the sum of distances between the intermediate points. The choice for the shortest path is the one with the least combined distance, but not necessarily the fewest nodes. Often we give this weight-as-a-distance value the more general term \"cost\", meaning it will cost us this many CPU cycles/hops/hours/etc. to travel the path. "
   ]
  }
 ],
 "metadata": {
  "kernelspec": {
   "display_name": "Python 3 (ipykernel)",
   "language": "python",
   "name": "python3"
  },
  "language_info": {
   "codemirror_mode": {
    "name": "ipython",
    "version": 3
   },
   "file_extension": ".py",
   "mimetype": "text/x-python",
   "name": "python",
   "nbconvert_exporter": "python",
   "pygments_lexer": "ipython3",
   "version": "3.9.12"
  }
 },
 "nbformat": 4,
 "nbformat_minor": 5
}
