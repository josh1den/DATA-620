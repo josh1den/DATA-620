{
 "cells": [
  {
   "cell_type": "markdown",
   "id": "30563d4f",
   "metadata": {},
   "source": [
    "# Text Mining: Word Association\n",
    "### Josh Iden \n",
    "### 03/17/23\n",
    "\n",
    "Presentation [link](https://youtu.be/gDwOBSfp4ec)"
   ]
  },
  {
   "cell_type": "markdown",
   "id": "a74decc6",
   "metadata": {},
   "source": [
    "## 1. Choose a Corpus of Interest\n",
    "\n",
    "This assignment will use the Brown corpus from [nltk.org](https://www.nltk.org/). The Brown Corpus was the first million-word electronic corpus of English, created in 1961 at Brown University. This corpus contains text from 500 sources, and the sources have been categorized by genre, such as news, editorial, etc. I am taking a random sample from the corpus, as the full corpus is computationally cumbersome on my machine. "
   ]
  },
  {
   "cell_type": "code",
   "execution_count": 1,
   "id": "c16b4d4c",
   "metadata": {},
   "outputs": [],
   "source": [
    "import nltk\n",
    "from nltk.corpus import brown\n",
    "import random\n",
    "import re\n",
    "from tabulate import tabulate\n",
    "import matplotlib.pyplot as plt\n",
    "%matplotlib inline"
   ]
  },
  {
   "cell_type": "markdown",
   "id": "a7980edb",
   "metadata": {},
   "source": [
    "## 2. Unique Words in the Corpus"
   ]
  },
  {
   "cell_type": "code",
   "execution_count": 2,
   "id": "a13fe348",
   "metadata": {},
   "outputs": [
    {
     "name": "stdout",
     "output_type": "stream",
     "text": [
      "CPU times: user 3.14 s, sys: 209 ms, total: 3.35 s\n",
      "Wall time: 3.54 s\n"
     ]
    },
    {
     "data": {
      "text/plain": [
       "1161192"
      ]
     },
     "execution_count": 2,
     "metadata": {},
     "output_type": "execute_result"
    }
   ],
   "source": [
    "%%time\n",
    "# total words in corpus\n",
    "words = brown.words()\n",
    "len(words)"
   ]
  },
  {
   "cell_type": "code",
   "execution_count": 3,
   "id": "3f8d4ba5",
   "metadata": {},
   "outputs": [],
   "source": [
    "words = random.sample(list(words), 10000)"
   ]
  },
  {
   "cell_type": "code",
   "execution_count": 4,
   "id": "ce28b496",
   "metadata": {},
   "outputs": [
    {
     "name": "stdout",
     "output_type": "stream",
     "text": [
      "CPU times: user 24 µs, sys: 1 µs, total: 25 µs\n",
      "Wall time: 30 µs\n"
     ]
    },
    {
     "data": {
      "text/plain": [
       "10000"
      ]
     },
     "execution_count": 4,
     "metadata": {},
     "output_type": "execute_result"
    }
   ],
   "source": [
    "%%time \n",
    "total_words = len(words)\n",
    "total_words"
   ]
  },
  {
   "cell_type": "markdown",
   "id": "3d60651c",
   "metadata": {},
   "source": [
    "The `set` function will return a number of unique words, but this doesn't take into account different cases (upper or lower) or words that contain numbers, so I'll run the function on a list comprehension that accounts for these characteristics. "
   ]
  },
  {
   "cell_type": "code",
   "execution_count": 5,
   "id": "c1f43e68",
   "metadata": {},
   "outputs": [
    {
     "data": {
      "text/plain": [
       "3432"
      ]
     },
     "execution_count": 5,
     "metadata": {},
     "output_type": "execute_result"
    }
   ],
   "source": [
    "len(set(words))"
   ]
  },
  {
   "cell_type": "code",
   "execution_count": 6,
   "id": "90385309",
   "metadata": {},
   "outputs": [
    {
     "data": {
      "text/plain": [
       "3023"
      ]
     },
     "execution_count": 6,
     "metadata": {},
     "output_type": "execute_result"
    }
   ],
   "source": [
    "total_unique = len(set([word.lower() for word in words if word.isalpha()]))\n",
    "total_unique"
   ]
  },
  {
   "cell_type": "markdown",
   "id": "27624d74",
   "metadata": {},
   "source": [
    "## 3. Taking the most common words, how many unique words represent half of the total words in the corpus?"
   ]
  },
  {
   "cell_type": "code",
   "execution_count": 7,
   "id": "3929f12b",
   "metadata": {},
   "outputs": [
    {
     "data": {
      "text/plain": [
       "[('the', 606), ('of', 329), ('and', 285), ('to', 229), ('in', 193)]"
      ]
     },
     "execution_count": 7,
     "metadata": {},
     "output_type": "execute_result"
    }
   ],
   "source": [
    "words = [word.lower() for word in words if word.isalpha()]\n",
    "nltk.FreqDist(words).most_common()[:5]"
   ]
  },
  {
   "cell_type": "code",
   "execution_count": 9,
   "id": "31f11e15",
   "metadata": {},
   "outputs": [
    {
     "name": "stdout",
     "output_type": "stream",
     "text": [
      "Total words: 10000\n",
      "Fifty percent: 5000.0\n",
      "257 most common unique words represent 5000 total words\n"
     ]
    }
   ],
   "source": [
    "half = total_words / 2\n",
    "\n",
    "total = 0\n",
    "num_words = 0\n",
    "\n",
    "for word, freq in nltk.FreqDist(words).most_common():\n",
    "    if total < half:\n",
    "        total += freq\n",
    "        num_words += 1\n",
    "    else: \n",
    "        pass\n",
    "        \n",
    "print(\"Total words: {}\".format(total_words))\n",
    "print(\"Fifty percent: {}\".format(half))\n",
    "print(\"{} most common unique words represent {} total words\".format(num_words, total))"
   ]
  },
  {
   "cell_type": "code",
   "execution_count": 10,
   "id": "0d0fd656",
   "metadata": {},
   "outputs": [
    {
     "data": {
      "text/plain": [
       "5000"
      ]
     },
     "execution_count": 10,
     "metadata": {},
     "output_type": "execute_result"
    }
   ],
   "source": [
    "sum(sorted(dict(nltk.FreqDist(words)).values(), reverse=True)[:num_words])"
   ]
  },
  {
   "cell_type": "markdown",
   "id": "bd096698",
   "metadata": {},
   "source": [
    "## 4. Identify the 200 highest frequency words in this corpus"
   ]
  },
  {
   "cell_type": "code",
   "execution_count": 11,
   "id": "cd45f8e9",
   "metadata": {},
   "outputs": [
    {
     "name": "stdout",
     "output_type": "stream",
     "text": [
      "+------------+--------+\n",
      "| Word       |   Freq |\n",
      "+============+========+\n",
      "| the        |    606 |\n",
      "+------------+--------+\n",
      "| of         |    329 |\n",
      "+------------+--------+\n",
      "| and        |    285 |\n",
      "+------------+--------+\n",
      "| to         |    229 |\n",
      "+------------+--------+\n",
      "| in         |    193 |\n",
      "+------------+--------+\n",
      "| a          |    174 |\n",
      "+------------+--------+\n",
      "| that       |     96 |\n",
      "+------------+--------+\n",
      "| was        |     95 |\n",
      "+------------+--------+\n",
      "| he         |     85 |\n",
      "+------------+--------+\n",
      "| for        |     84 |\n",
      "+------------+--------+\n",
      "| is         |     82 |\n",
      "+------------+--------+\n",
      "| with       |     66 |\n",
      "+------------+--------+\n",
      "| on         |     64 |\n",
      "+------------+--------+\n",
      "| this       |     53 |\n",
      "+------------+--------+\n",
      "| it         |     52 |\n",
      "+------------+--------+\n",
      "| his        |     50 |\n",
      "+------------+--------+\n",
      "| i          |     47 |\n",
      "+------------+--------+\n",
      "| as         |     46 |\n",
      "+------------+--------+\n",
      "| be         |     46 |\n",
      "+------------+--------+\n",
      "| at         |     45 |\n",
      "+------------+--------+\n",
      "| by         |     42 |\n",
      "+------------+--------+\n",
      "| had        |     42 |\n",
      "+------------+--------+\n",
      "| but        |     40 |\n",
      "+------------+--------+\n",
      "| one        |     36 |\n",
      "+------------+--------+\n",
      "| all        |     35 |\n",
      "+------------+--------+\n",
      "| which      |     32 |\n",
      "+------------+--------+\n",
      "| an         |     32 |\n",
      "+------------+--------+\n",
      "| her        |     32 |\n",
      "+------------+--------+\n",
      "| they       |     31 |\n",
      "+------------+--------+\n",
      "| she        |     31 |\n",
      "+------------+--------+\n",
      "| are        |     31 |\n",
      "+------------+--------+\n",
      "| from       |     30 |\n",
      "+------------+--------+\n",
      "| you        |     29 |\n",
      "+------------+--------+\n",
      "| not        |     29 |\n",
      "+------------+--------+\n",
      "| him        |     28 |\n",
      "+------------+--------+\n",
      "| their      |     27 |\n",
      "+------------+--------+\n",
      "| we         |     27 |\n",
      "+------------+--------+\n",
      "| were       |     27 |\n",
      "+------------+--------+\n",
      "| have       |     26 |\n",
      "+------------+--------+\n",
      "| there      |     26 |\n",
      "+------------+--------+\n",
      "| no         |     24 |\n",
      "+------------+--------+\n",
      "| would      |     21 |\n",
      "+------------+--------+\n",
      "| has        |     21 |\n",
      "+------------+--------+\n",
      "| if         |     21 |\n",
      "+------------+--------+\n",
      "| more       |     20 |\n",
      "+------------+--------+\n",
      "| can        |     20 |\n",
      "+------------+--------+\n",
      "| will       |     20 |\n",
      "+------------+--------+\n",
      "| been       |     20 |\n",
      "+------------+--------+\n",
      "| said       |     19 |\n",
      "+------------+--------+\n",
      "| what       |     19 |\n",
      "+------------+--------+\n",
      "| them       |     18 |\n",
      "+------------+--------+\n",
      "| other      |     18 |\n",
      "+------------+--------+\n",
      "| who        |     18 |\n",
      "+------------+--------+\n",
      "| so         |     18 |\n",
      "+------------+--------+\n",
      "| or         |     17 |\n",
      "+------------+--------+\n",
      "| first      |     17 |\n",
      "+------------+--------+\n",
      "| could      |     17 |\n",
      "+------------+--------+\n",
      "| only       |     16 |\n",
      "+------------+--------+\n",
      "| when       |     16 |\n",
      "+------------+--------+\n",
      "| then       |     16 |\n",
      "+------------+--------+\n",
      "| about      |     16 |\n",
      "+------------+--------+\n",
      "| its        |     15 |\n",
      "+------------+--------+\n",
      "| should     |     14 |\n",
      "+------------+--------+\n",
      "| me         |     14 |\n",
      "+------------+--------+\n",
      "| than       |     14 |\n",
      "+------------+--------+\n",
      "| some       |     14 |\n",
      "+------------+--------+\n",
      "| way        |     14 |\n",
      "+------------+--------+\n",
      "| out        |     13 |\n",
      "+------------+--------+\n",
      "| do         |     13 |\n",
      "+------------+--------+\n",
      "| over       |     13 |\n",
      "+------------+--------+\n",
      "| may        |     13 |\n",
      "+------------+--------+\n",
      "| give       |     13 |\n",
      "+------------+--------+\n",
      "| up         |     13 |\n",
      "+------------+--------+\n",
      "| new        |     12 |\n",
      "+------------+--------+\n",
      "| must       |     12 |\n",
      "+------------+--------+\n",
      "| much       |     12 |\n",
      "+------------+--------+\n",
      "| into       |     12 |\n",
      "+------------+--------+\n",
      "| any        |     11 |\n",
      "+------------+--------+\n",
      "| get        |     11 |\n",
      "+------------+--------+\n",
      "| years      |     11 |\n",
      "+------------+--------+\n",
      "| good       |     11 |\n",
      "+------------+--------+\n",
      "| nothing    |     11 |\n",
      "+------------+--------+\n",
      "| these      |     11 |\n",
      "+------------+--------+\n",
      "| many       |     11 |\n",
      "+------------+--------+\n",
      "| before     |     11 |\n",
      "+------------+--------+\n",
      "| most       |     10 |\n",
      "+------------+--------+\n",
      "| those      |     10 |\n",
      "+------------+--------+\n",
      "| day        |     10 |\n",
      "+------------+--------+\n",
      "| even       |     10 |\n",
      "+------------+--------+\n",
      "| my         |     10 |\n",
      "+------------+--------+\n",
      "| like       |     10 |\n",
      "+------------+--------+\n",
      "| af         |      9 |\n",
      "+------------+--------+\n",
      "| long       |      9 |\n",
      "+------------+--------+\n",
      "| see        |      9 |\n",
      "+------------+--------+\n",
      "| man        |      9 |\n",
      "+------------+--------+\n",
      "| during     |      9 |\n",
      "+------------+--------+\n",
      "| through    |      9 |\n",
      "+------------+--------+\n",
      "| while      |      8 |\n",
      "+------------+--------+\n",
      "| time       |      8 |\n",
      "+------------+--------+\n",
      "| world      |      8 |\n",
      "+------------+--------+\n",
      "| make       |      8 |\n",
      "+------------+--------+\n",
      "| states     |      8 |\n",
      "+------------+--------+\n",
      "| between    |      8 |\n",
      "+------------+--------+\n",
      "| such       |      8 |\n",
      "+------------+--------+\n",
      "| your       |      8 |\n",
      "+------------+--------+\n",
      "| people     |      8 |\n",
      "+------------+--------+\n",
      "| general    |      8 |\n",
      "+------------+--------+\n",
      "| hands      |      8 |\n",
      "+------------+--------+\n",
      "| our        |      7 |\n",
      "+------------+--------+\n",
      "| might      |      7 |\n",
      "+------------+--------+\n",
      "| did        |      7 |\n",
      "+------------+--------+\n",
      "| well       |      7 |\n",
      "+------------+--------+\n",
      "| made       |      7 |\n",
      "+------------+--------+\n",
      "| used       |      7 |\n",
      "+------------+--------+\n",
      "| also       |      7 |\n",
      "+------------+--------+\n",
      "| year       |      7 |\n",
      "+------------+--------+\n",
      "| means      |      7 |\n",
      "+------------+--------+\n",
      "| water      |      7 |\n",
      "+------------+--------+\n",
      "| each       |      7 |\n",
      "+------------+--------+\n",
      "| too        |      7 |\n",
      "+------------+--------+\n",
      "| now        |      7 |\n",
      "+------------+--------+\n",
      "| business   |      7 |\n",
      "+------------+--------+\n",
      "| us         |      7 |\n",
      "+------------+--------+\n",
      "| off        |      7 |\n",
      "+------------+--------+\n",
      "| knew       |      7 |\n",
      "+------------+--------+\n",
      "| things     |      6 |\n",
      "+------------+--------+\n",
      "| support    |      6 |\n",
      "+------------+--------+\n",
      "| down       |      6 |\n",
      "+------------+--------+\n",
      "| available  |      6 |\n",
      "+------------+--------+\n",
      "| know       |      6 |\n",
      "+------------+--------+\n",
      "| turned     |      6 |\n",
      "+------------+--------+\n",
      "| life       |      6 |\n",
      "+------------+--------+\n",
      "| less       |      6 |\n",
      "+------------+--------+\n",
      "| later      |      6 |\n",
      "+------------+--------+\n",
      "| two        |      6 |\n",
      "+------------+--------+\n",
      "| men        |      6 |\n",
      "+------------+--------+\n",
      "| become     |      6 |\n",
      "+------------+--------+\n",
      "| say        |      6 |\n",
      "+------------+--------+\n",
      "| better     |      6 |\n",
      "+------------+--------+\n",
      "| own        |      6 |\n",
      "+------------+--------+\n",
      "| again      |      6 |\n",
      "+------------+--------+\n",
      "| under      |      6 |\n",
      "+------------+--------+\n",
      "| go         |      6 |\n",
      "+------------+--------+\n",
      "| along      |      6 |\n",
      "+------------+--------+\n",
      "| never      |      6 |\n",
      "+------------+--------+\n",
      "| air        |      6 |\n",
      "+------------+--------+\n",
      "| ever       |      6 |\n",
      "+------------+--------+\n",
      "| after      |      6 |\n",
      "+------------+--------+\n",
      "| dead       |      6 |\n",
      "+------------+--------+\n",
      "| went       |      6 |\n",
      "+------------+--------+\n",
      "| another    |      6 |\n",
      "+------------+--------+\n",
      "| same       |      6 |\n",
      "+------------+--------+\n",
      "| back       |      6 |\n",
      "+------------+--------+\n",
      "| almost     |      6 |\n",
      "+------------+--------+\n",
      "| great      |      6 |\n",
      "+------------+--------+\n",
      "| several    |      6 |\n",
      "+------------+--------+\n",
      "| always     |      6 |\n",
      "+------------+--------+\n",
      "| how        |      5 |\n",
      "+------------+--------+\n",
      "| town       |      5 |\n",
      "+------------+--------+\n",
      "| period     |      5 |\n",
      "+------------+--------+\n",
      "| president  |      5 |\n",
      "+------------+--------+\n",
      "| still      |      5 |\n",
      "+------------+--------+\n",
      "| just       |      5 |\n",
      "+------------+--------+\n",
      "| military   |      5 |\n",
      "+------------+--------+\n",
      "| room       |      5 |\n",
      "+------------+--------+\n",
      "| every      |      5 |\n",
      "+------------+--------+\n",
      "| asked      |      5 |\n",
      "+------------+--------+\n",
      "| little     |      5 |\n",
      "+------------+--------+\n",
      "| home       |      5 |\n",
      "+------------+--------+\n",
      "| far        |      5 |\n",
      "+------------+--------+\n",
      "| find       |      5 |\n",
      "+------------+--------+\n",
      "| looked     |      5 |\n",
      "+------------+--------+\n",
      "| three      |      5 |\n",
      "+------------+--------+\n",
      "| themselves |      5 |\n",
      "+------------+--------+\n",
      "| certain    |      5 |\n",
      "+------------+--------+\n",
      "| does       |      5 |\n",
      "+------------+--------+\n",
      "| different  |      5 |\n",
      "+------------+--------+\n",
      "| found      |      5 |\n",
      "+------------+--------+\n",
      "| followed   |      5 |\n",
      "+------------+--------+\n",
      "| state      |      5 |\n",
      "+------------+--------+\n",
      "| word       |      5 |\n",
      "+------------+--------+\n",
      "| late       |      5 |\n",
      "+------------+--------+\n",
      "| let        |      5 |\n",
      "+------------+--------+\n",
      "| something  |      5 |\n",
      "+------------+--------+\n",
      "| thought    |      5 |\n",
      "+------------+--------+\n",
      "| hotel      |      5 |\n",
      "+------------+--------+\n",
      "| next       |      5 |\n",
      "+------------+--------+\n",
      "| important  |      5 |\n",
      "+------------+--------+\n",
      "| against    |      5 |\n",
      "+------------+--------+\n",
      "| without    |      5 |\n",
      "+------------+--------+\n",
      "| hope       |      5 |\n",
      "+------------+--------+\n",
      "| hand       |      5 |\n",
      "+------------+--------+\n",
      "| last       |      5 |\n",
      "+------------+--------+\n",
      "| seem       |      4 |\n",
      "+------------+--------+\n",
      "| once       |      4 |\n",
      "+------------+--------+\n",
      "| himself    |      4 |\n",
      "+------------+--------+\n",
      "| point      |      4 |\n",
      "+------------+--------+\n",
      "| music      |      4 |\n",
      "+------------+--------+\n",
      "| social     |      4 |\n",
      "+------------+--------+\n",
      "| initial    |      4 |\n",
      "+------------+--------+\n"
     ]
    }
   ],
   "source": [
    "header = ['Word','Freq']  \n",
    "print(tabulate(nltk.FreqDist(words).most_common()[:200], header, tablefmt=\"grid\"))"
   ]
  },
  {
   "cell_type": "markdown",
   "id": "3a41e061",
   "metadata": {},
   "source": [
    "## 5. Create a graph that shows the relative frequency of these 200 words."
   ]
  },
  {
   "cell_type": "code",
   "execution_count": 12,
   "id": "95e8139e",
   "metadata": {},
   "outputs": [],
   "source": [
    "hf = dict(nltk.FreqDist(words).most_common()[:200])\n",
    "\n",
    "x = []\n",
    "y = []\n",
    "for word, freq in hf.items():\n",
    "    rf = round(freq/len(words), 4)\n",
    "    x.append(word)\n",
    "    y.append(rf)"
   ]
  },
  {
   "cell_type": "code",
   "execution_count": 13,
   "id": "1dc142bd",
   "metadata": {},
   "outputs": [
    {
     "data": {
      "image/png": "[encoded data removed]",
      "text/plain": [
       "<Figure size 1440x720 with 1 Axes>"
      ]
     },
     "metadata": {
      "needs_background": "light"
     },
     "output_type": "display_data"
    }
   ],
   "source": [
    "plt.figure(figsize=[20,10])\n",
    "x.reverse() # reverses the lists so y-axis will display from highest to lowest\n",
    "y.reverse()\n",
    "plt.barh(x, y)\n",
    "plt.yticks(fontsize=5)\n",
    "plt.title(\"Relative Freq. - Top 200 Words\")\n",
    "plt.ylabel(\"Word\")\n",
    "\n",
    "plt.show();"
   ]
  },
  {
   "cell_type": "markdown",
   "id": "88d2549e",
   "metadata": {},
   "source": [
    "## 6. Does the observed relative frequency of these words follow Zipf’s law? Explain.\n",
    "\n",
    "Zipf's Law states that when words are ranked according to their frequencies in a large enough collection of texts and then the frequency is plotted against the rank, the result is a logarithmic curve. (Or if you graph on a log scale, the result is a straight line.)\n",
    "\n",
    "Although this is a random sample of the original corpus, you can observe that the frequencies do appear to occur as half of the larger value, meaning the second largest frequency is roughly half the size of the largest, and so on. I believe if we were looking at the full corpus, this distribution would move even more in line with Zipf's law. "
   ]
  },
  {
   "cell_type": "markdown",
   "id": "d8612a75",
   "metadata": {},
   "source": [
    "## 7. In what ways do you think the frequency of the words in this corpus differ from “all words in all corpora.”\n",
    "\n",
    "These words are specific to print text and not conversation/audio transcription. They are a representation of the kinds of words that were commonly used in writing during very specific time periods. For example, an article written during the 1960s would perhaps feature a higher frequency of different kinds of words than an article written in the 2000s. However, the highest frequency are articles (the) and prepositions (of, to), and are less likely to affected by linguistic trends. Therefore I think the frequency of the words in this corpus, at least with respect to the sample we are looking at, are reasonably representative of what I expect the frequency of all words in the corpora to look like. "
   ]
  }
 ],
 "metadata": {
  "kernelspec": {
   "display_name": "Python 3 (ipykernel)",
   "language": "python",
   "name": "python3"
  },
  "language_info": {
   "codemirror_mode": {
    "name": "ipython",
    "version": 3
   },
   "file_extension": ".py",
   "mimetype": "text/x-python",
   "name": "python",
   "nbconvert_exporter": "python",
   "pygments_lexer": "ipython3",
   "version": "3.9.12"
  }
 },
 "nbformat": 4,
 "nbformat_minor": 5
}
