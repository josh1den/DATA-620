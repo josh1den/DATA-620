{
 "cells": [
  {
   "cell_type": "markdown",
   "id": "2fa96f3d",
   "metadata": {},
   "source": [
    "# Topic Mining: Document Classification \n",
    "### Josh Iden\n",
    "Watch: [Presentation](https://youtu.be/TLKk7RGAOHg)\n",
    "\n",
    "## Assignment \n",
    "\n",
    "It can be useful to be able to classify new \"test\" documents using already classified \"training\" documents.  A common example is using a corpus of labeled spam and ham (non-spam) e-mails to predict whether or not a new document is spam.  Here is one example of such data:  [UCI Machine Learning Repository: Spambase Data Set](http://archive.ics.uci.edu/ml/datasets/Spambase).\n",
    "\n",
    "For this project, you can either use the above dataset to predict the class of new documents (either withheld from the training dataset or from another source such as your own spam folder).\n",
    "\n",
    "## Introduction\n",
    "\n",
    "As this is my first stab at document classification, I decided to use the suggested dataset and perform predictions using logistic regression methods on the dataset. \n",
    "\n",
    "### Loading the Data"
   ]
  },
  {
   "cell_type": "code",
   "execution_count": 1,
   "id": "9479f2bf",
   "metadata": {},
   "outputs": [],
   "source": [
    "import pandas as pd\n",
    "import matplotlib.pyplot as plt\n",
    "import seaborn as sns\n",
    "\n",
    "from sklearn.pipeline import Pipeline\n",
    "from sklearn.model_selection import train_test_split\n",
    "from sklearn.linear_model import LogisticRegression\n",
    "from sklearn.preprocessing import StandardScaler\n",
    "from sklearn.metrics import confusion_matrix, ConfusionMatrixDisplay, classification_report\n",
    "import re\n",
    "\n",
    "%matplotlib inline"
   ]
  },
  {
   "cell_type": "code",
   "execution_count": 2,
   "id": "627b7371",
   "metadata": {},
   "outputs": [
    {
     "data": {
      "text/plain": [
       "['char_freq_#',\n",
       " 'capital_run_length_average',\n",
       " 'capital_run_length_longest',\n",
       " 'capital_run_length_total',\n",
       " 'email']"
      ]
     },
     "execution_count": 2,
     "metadata": {},
     "output_type": "execute_result"
    }
   ],
   "source": [
    "# loading the column names from spambase.names\n",
    "\n",
    "with open('spambase.names') as f:\n",
    "    lines = f.readlines()\n",
    "    \n",
    "# all names start with alphanumeric up to a colon, extracting them\n",
    "names = [re.findall('\\w+[^:]', line)[0] for line in lines if line[0].isalpha()]\n",
    "# hard coding the last name: class\n",
    "names.append('email')\n",
    "names[-5:]"
   ]
  },
  {
   "cell_type": "markdown",
   "id": "8b0154ba",
   "metadata": {},
   "source": [
    "After previewing the data files provided at the above repository, I used some regex in a list comprehension to isolate feature (column) names, and then hard-coded in the class feature, then for readability, converting the 0-1 `class` value to \"not spam\" or \"spam\". "
   ]
  },
  {
   "cell_type": "code",
   "execution_count": 3,
   "id": "1688c36e",
   "metadata": {},
   "outputs": [
    {
     "data": {
      "text/html": [
       "<div>\n",
       "<style scoped>\n",
       "    .dataframe tbody tr th:only-of-type {\n",
       "        vertical-align: middle;\n",
       "    }\n",
       "\n",
       "    .dataframe tbody tr th {\n",
       "        vertical-align: top;\n",
       "    }\n",
       "\n",
       "    .dataframe thead th {\n",
       "        text-align: right;\n",
       "    }\n",
       "</style>\n",
       "<table border=\"1\" class=\"dataframe\">\n",
       "  <thead>\n",
       "    <tr style=\"text-align: right;\">\n",
       "      <th></th>\n",
       "      <th>word_freq_make</th>\n",
       "      <th>word_freq_address</th>\n",
       "      <th>word_freq_all</th>\n",
       "      <th>word_freq_3d</th>\n",
       "      <th>word_freq_our</th>\n",
       "      <th>word_freq_over</th>\n",
       "      <th>word_freq_remove</th>\n",
       "      <th>word_freq_internet</th>\n",
       "      <th>word_freq_order</th>\n",
       "      <th>word_freq_mail</th>\n",
       "      <th>...</th>\n",
       "      <th>char_freq_;</th>\n",
       "      <th>char_freq_(</th>\n",
       "      <th>char_freq_[</th>\n",
       "      <th>char_freq_!</th>\n",
       "      <th>char_freq_$</th>\n",
       "      <th>char_freq_#</th>\n",
       "      <th>capital_run_length_average</th>\n",
       "      <th>capital_run_length_longest</th>\n",
       "      <th>capital_run_length_total</th>\n",
       "      <th>email</th>\n",
       "    </tr>\n",
       "  </thead>\n",
       "  <tbody>\n",
       "    <tr>\n",
       "      <th>0</th>\n",
       "      <td>0.00</td>\n",
       "      <td>0.64</td>\n",
       "      <td>0.64</td>\n",
       "      <td>0.0</td>\n",
       "      <td>0.32</td>\n",
       "      <td>0.00</td>\n",
       "      <td>0.00</td>\n",
       "      <td>0.00</td>\n",
       "      <td>0.00</td>\n",
       "      <td>0.00</td>\n",
       "      <td>...</td>\n",
       "      <td>0.00</td>\n",
       "      <td>0.000</td>\n",
       "      <td>0.0</td>\n",
       "      <td>0.778</td>\n",
       "      <td>0.000</td>\n",
       "      <td>0.000</td>\n",
       "      <td>3.756</td>\n",
       "      <td>61</td>\n",
       "      <td>278</td>\n",
       "      <td>spam</td>\n",
       "    </tr>\n",
       "    <tr>\n",
       "      <th>1</th>\n",
       "      <td>0.21</td>\n",
       "      <td>0.28</td>\n",
       "      <td>0.50</td>\n",
       "      <td>0.0</td>\n",
       "      <td>0.14</td>\n",
       "      <td>0.28</td>\n",
       "      <td>0.21</td>\n",
       "      <td>0.07</td>\n",
       "      <td>0.00</td>\n",
       "      <td>0.94</td>\n",
       "      <td>...</td>\n",
       "      <td>0.00</td>\n",
       "      <td>0.132</td>\n",
       "      <td>0.0</td>\n",
       "      <td>0.372</td>\n",
       "      <td>0.180</td>\n",
       "      <td>0.048</td>\n",
       "      <td>5.114</td>\n",
       "      <td>101</td>\n",
       "      <td>1028</td>\n",
       "      <td>spam</td>\n",
       "    </tr>\n",
       "    <tr>\n",
       "      <th>2</th>\n",
       "      <td>0.06</td>\n",
       "      <td>0.00</td>\n",
       "      <td>0.71</td>\n",
       "      <td>0.0</td>\n",
       "      <td>1.23</td>\n",
       "      <td>0.19</td>\n",
       "      <td>0.19</td>\n",
       "      <td>0.12</td>\n",
       "      <td>0.64</td>\n",
       "      <td>0.25</td>\n",
       "      <td>...</td>\n",
       "      <td>0.01</td>\n",
       "      <td>0.143</td>\n",
       "      <td>0.0</td>\n",
       "      <td>0.276</td>\n",
       "      <td>0.184</td>\n",
       "      <td>0.010</td>\n",
       "      <td>9.821</td>\n",
       "      <td>485</td>\n",
       "      <td>2259</td>\n",
       "      <td>spam</td>\n",
       "    </tr>\n",
       "    <tr>\n",
       "      <th>3</th>\n",
       "      <td>0.00</td>\n",
       "      <td>0.00</td>\n",
       "      <td>0.00</td>\n",
       "      <td>0.0</td>\n",
       "      <td>0.63</td>\n",
       "      <td>0.00</td>\n",
       "      <td>0.31</td>\n",
       "      <td>0.63</td>\n",
       "      <td>0.31</td>\n",
       "      <td>0.63</td>\n",
       "      <td>...</td>\n",
       "      <td>0.00</td>\n",
       "      <td>0.137</td>\n",
       "      <td>0.0</td>\n",
       "      <td>0.137</td>\n",
       "      <td>0.000</td>\n",
       "      <td>0.000</td>\n",
       "      <td>3.537</td>\n",
       "      <td>40</td>\n",
       "      <td>191</td>\n",
       "      <td>spam</td>\n",
       "    </tr>\n",
       "    <tr>\n",
       "      <th>4</th>\n",
       "      <td>0.00</td>\n",
       "      <td>0.00</td>\n",
       "      <td>0.00</td>\n",
       "      <td>0.0</td>\n",
       "      <td>0.63</td>\n",
       "      <td>0.00</td>\n",
       "      <td>0.31</td>\n",
       "      <td>0.63</td>\n",
       "      <td>0.31</td>\n",
       "      <td>0.63</td>\n",
       "      <td>...</td>\n",
       "      <td>0.00</td>\n",
       "      <td>0.135</td>\n",
       "      <td>0.0</td>\n",
       "      <td>0.135</td>\n",
       "      <td>0.000</td>\n",
       "      <td>0.000</td>\n",
       "      <td>3.537</td>\n",
       "      <td>40</td>\n",
       "      <td>191</td>\n",
       "      <td>spam</td>\n",
       "    </tr>\n",
       "  </tbody>\n",
       "</table>\n",
       "<p>5 rows × 58 columns</p>\n",
       "</div>"
      ],
      "text/plain": [
       "   word_freq_make  word_freq_address  word_freq_all  word_freq_3d  \\\n",
       "0            0.00               0.64           0.64           0.0   \n",
       "1            0.21               0.28           0.50           0.0   \n",
       "2            0.06               0.00           0.71           0.0   \n",
       "3            0.00               0.00           0.00           0.0   \n",
       "4            0.00               0.00           0.00           0.0   \n",
       "\n",
       "   word_freq_our  word_freq_over  word_freq_remove  word_freq_internet  \\\n",
       "0           0.32            0.00              0.00                0.00   \n",
       "1           0.14            0.28              0.21                0.07   \n",
       "2           1.23            0.19              0.19                0.12   \n",
       "3           0.63            0.00              0.31                0.63   \n",
       "4           0.63            0.00              0.31                0.63   \n",
       "\n",
       "   word_freq_order  word_freq_mail  ...  char_freq_;  char_freq_(  \\\n",
       "0             0.00            0.00  ...         0.00        0.000   \n",
       "1             0.00            0.94  ...         0.00        0.132   \n",
       "2             0.64            0.25  ...         0.01        0.143   \n",
       "3             0.31            0.63  ...         0.00        0.137   \n",
       "4             0.31            0.63  ...         0.00        0.135   \n",
       "\n",
       "   char_freq_[  char_freq_!  char_freq_$  char_freq_#  \\\n",
       "0          0.0        0.778        0.000        0.000   \n",
       "1          0.0        0.372        0.180        0.048   \n",
       "2          0.0        0.276        0.184        0.010   \n",
       "3          0.0        0.137        0.000        0.000   \n",
       "4          0.0        0.135        0.000        0.000   \n",
       "\n",
       "   capital_run_length_average  capital_run_length_longest  \\\n",
       "0                       3.756                          61   \n",
       "1                       5.114                         101   \n",
       "2                       9.821                         485   \n",
       "3                       3.537                          40   \n",
       "4                       3.537                          40   \n",
       "\n",
       "   capital_run_length_total  email  \n",
       "0                       278   spam  \n",
       "1                      1028   spam  \n",
       "2                      2259   spam  \n",
       "3                       191   spam  \n",
       "4                       191   spam  \n",
       "\n",
       "[5 rows x 58 columns]"
      ]
     },
     "execution_count": 3,
     "metadata": {},
     "output_type": "execute_result"
    }
   ],
   "source": [
    "# loading the file from spambase.data\n",
    "\n",
    "df = pd.read_csv('spambase.data', names=names, index_col=False)\n",
    "df.email.replace({0: \"not spam\", 1: \"spam\"}, inplace=True)\n",
    "df.head()"
   ]
  },
  {
   "cell_type": "markdown",
   "id": "6640e735",
   "metadata": {},
   "source": [
    "Confirming no null values are present in the data:"
   ]
  },
  {
   "cell_type": "code",
   "execution_count": 4,
   "id": "4bab3a53",
   "metadata": {},
   "outputs": [
    {
     "data": {
      "text/plain": [
       "False"
      ]
     },
     "execution_count": 4,
     "metadata": {},
     "output_type": "execute_result"
    }
   ],
   "source": [
    "df.isnull().values.any()"
   ]
  },
  {
   "cell_type": "markdown",
   "id": "21dc4cb7",
   "metadata": {},
   "source": [
    "### Exploratory Data Analysis"
   ]
  },
  {
   "cell_type": "code",
   "execution_count": 5,
   "id": "a058feac",
   "metadata": {},
   "outputs": [
    {
     "data": {
      "image/png": "[encoded data removed]",
      "text/plain": [
       "<Figure size 432x288 with 1 Axes>"
      ]
     },
     "metadata": {
      "needs_background": "light"
     },
     "output_type": "display_data"
    }
   ],
   "source": [
    "sns.set_palette(\"Paired\")\n",
    "sns.histplot(x = df['email'], stat = 'percent');"
   ]
  },
  {
   "cell_type": "code",
   "execution_count": 6,
   "id": "55c3887f",
   "metadata": {},
   "outputs": [
    {
     "name": "stdout",
     "output_type": "stream",
     "text": [
      "Percent spam: 39.4%\n",
      "Percent not spam: 60.6%\n"
     ]
    }
   ],
   "source": [
    "_ns, _s = round(df.email.value_counts(normalize=True) * 100, 2)\n",
    "\n",
    "print(\"Percent spam: {}%\".format(_s))\n",
    "print(\"Percent not spam: {}%\".format(_ns))"
   ]
  },
  {
   "cell_type": "markdown",
   "id": "d008ed2e",
   "metadata": {},
   "source": [
    "The distribution of spam versus not spam gives us a baseline to compare our predictions.\n",
    "\n",
    "### Making Predictons\n",
    "\n",
    "The `scikit-learn` module provides a wealth of packages to perform regression. First I split the data 80/20, 80% to my training set, 20% to my testing set. Then I instantiate a pipeline and fit the model to make predictions."
   ]
  },
  {
   "cell_type": "code",
   "execution_count": 7,
   "id": "8ef44c05",
   "metadata": {},
   "outputs": [],
   "source": [
    "# split the data \n",
    "y = df['email']\n",
    "X = df.drop('email', axis = 1)\n",
    "X_train, X_test, y_train, y_test = train_test_split(X, y,test_size=0.2, random_state=123)"
   ]
  },
  {
   "cell_type": "code",
   "execution_count": 8,
   "id": "3603a428",
   "metadata": {},
   "outputs": [
    {
     "data": {
      "text/plain": [
       "Pipeline(steps=[('ss', StandardScaler()),\n",
       "                ('log',\n",
       "                 LogisticRegression(C=1e+16, fit_intercept=False,\n",
       "                                    solver='liblinear'))])"
      ]
     },
     "execution_count": 8,
     "metadata": {},
     "output_type": "execute_result"
    }
   ],
   "source": [
    "# Instantiate Standard Scaler and Logistic Regression\n",
    "scaler = StandardScaler()\n",
    "logreg = LogisticRegression(fit_intercept=False, C=1e16, solver='liblinear')# Creating a classifier pipeline \n",
    "clf = Pipeline([('ss', scaler), \n",
    "                ('log', logreg)])\n",
    "\n",
    "clf.fit(X_train, y_train)"
   ]
  },
  {
   "cell_type": "code",
   "execution_count": 9,
   "id": "92617de4",
   "metadata": {},
   "outputs": [
    {
     "name": "stdout",
     "output_type": "stream",
     "text": [
      "Prediction accuracy: 93.27%\n"
     ]
    }
   ],
   "source": [
    "# Get the prediction accuracy\n",
    "predictions = clf.predict(X_test)\n",
    "print(\"Prediction accuracy: {}%\".format(round(clf.score(X_test, y_test)*100, 2)))"
   ]
  },
  {
   "cell_type": "code",
   "execution_count": 10,
   "id": "31dce1de",
   "metadata": {},
   "outputs": [
    {
     "data": {
      "image/png": "[encoded data removed]",
      "text/plain": [
       "<Figure size 432x288 with 2 Axes>"
      ]
     },
     "metadata": {
      "needs_background": "light"
     },
     "output_type": "display_data"
    }
   ],
   "source": [
    "labels = [i.title() for i in list(clf.classes_)]\n",
    "cm = confusion_matrix(y_test, predictions, labels=clf.classes_)\n",
    "\n",
    "disp = ConfusionMatrixDisplay(confusion_matrix=cm, display_labels=labels)\n",
    "disp.plot()\n",
    "plt.title(\"Confusion Matrix\")\n",
    "plt.show();"
   ]
  },
  {
   "cell_type": "code",
   "execution_count": 11,
   "id": "a052e4f0",
   "metadata": {},
   "outputs": [
    {
     "name": "stdout",
     "output_type": "stream",
     "text": [
      "              precision    recall  f1-score   support\n",
      "\n",
      "    not spam       0.94      0.95      0.95       563\n",
      "        spam       0.92      0.91      0.91       358\n",
      "\n",
      "    accuracy                           0.93       921\n",
      "   macro avg       0.93      0.93      0.93       921\n",
      "weighted avg       0.93      0.93      0.93       921\n",
      "\n"
     ]
    }
   ],
   "source": [
    "print(classification_report(y_test, predictions, output_dict=False))"
   ]
  },
  {
   "cell_type": "markdown",
   "id": "9c47ca90",
   "metadata": {},
   "source": [
    "As we can see, the model is not perfect; 100% precision and recall would indicate there are no false positives, and no false negatives, which we can see is not the case based on the confusion matrix. The F1-score is an average of precision and recall. Ideally if we are trying to identify actual spam as opposed to just \"not spam\", we would want the precision (ie true positive) on the spam to be higher than the \"not spam\". Both precision and recall are higher for the \"not spam\" category, which is less desirable. Let's see how the proportion of the emails compares between the predictions and the original data:"
   ]
  },
  {
   "cell_type": "code",
   "execution_count": 12,
   "id": "1d869e6e",
   "metadata": {},
   "outputs": [
    {
     "data": {
      "image/png": "[encoded data removed]",
      "text/plain": [
       "<Figure size 432x288 with 1 Axes>"
      ]
     },
     "metadata": {
      "needs_background": "light"
     },
     "output_type": "display_data"
    }
   ],
   "source": [
    "sns.histplot(predictions, stat = 'percent')\n",
    "plt.xlabel('predictions');"
   ]
  },
  {
   "cell_type": "code",
   "execution_count": 13,
   "id": "50f78210",
   "metadata": {},
   "outputs": [
    {
     "name": "stdout",
     "output_type": "stream",
     "text": [
      "Percent spam : 38.2%\n",
      "Percent not spam: 61.8%\n"
     ]
    }
   ],
   "source": [
    "_pns, _ps = round(pd.Series(predictions).value_counts(normalize=True)*100,1)\n",
    "print(\"Percent spam : {}%\".format(_ps))\n",
    "print(\"Percent not spam: {}%\".format(_pns))"
   ]
  },
  {
   "cell_type": "markdown",
   "id": "7f3f8ea3",
   "metadata": {},
   "source": [
    "Comparing with the original data:"
   ]
  },
  {
   "cell_type": "code",
   "execution_count": 14,
   "id": "afd1ccb4",
   "metadata": {},
   "outputs": [],
   "source": [
    "o_prop = pd.Series(round(df.email.value_counts(normalize=True) * 100, 2), name = 'original_data')\n",
    "p_prop = round(pd.Series(predictions, name = 'predictions').value_counts(normalize=True) * 100, 1)"
   ]
  },
  {
   "cell_type": "code",
   "execution_count": 15,
   "id": "babed5d3",
   "metadata": {},
   "outputs": [
    {
     "data": {
      "text/html": [
       "<div>\n",
       "<style scoped>\n",
       "    .dataframe tbody tr th:only-of-type {\n",
       "        vertical-align: middle;\n",
       "    }\n",
       "\n",
       "    .dataframe tbody tr th {\n",
       "        vertical-align: top;\n",
       "    }\n",
       "\n",
       "    .dataframe thead th {\n",
       "        text-align: right;\n",
       "    }\n",
       "</style>\n",
       "<table border=\"1\" class=\"dataframe\">\n",
       "  <thead>\n",
       "    <tr style=\"text-align: right;\">\n",
       "      <th></th>\n",
       "      <th>original_data</th>\n",
       "      <th>predictions</th>\n",
       "      <th>diff</th>\n",
       "    </tr>\n",
       "  </thead>\n",
       "  <tbody>\n",
       "    <tr>\n",
       "      <th>not spam</th>\n",
       "      <td>60.6</td>\n",
       "      <td>61.8</td>\n",
       "      <td>1.2</td>\n",
       "    </tr>\n",
       "    <tr>\n",
       "      <th>spam</th>\n",
       "      <td>39.4</td>\n",
       "      <td>38.2</td>\n",
       "      <td>-1.2</td>\n",
       "    </tr>\n",
       "  </tbody>\n",
       "</table>\n",
       "</div>"
      ],
      "text/plain": [
       "          original_data  predictions  diff\n",
       "not spam           60.6         61.8   1.2\n",
       "spam               39.4         38.2  -1.2"
      ]
     },
     "execution_count": 15,
     "metadata": {},
     "output_type": "execute_result"
    }
   ],
   "source": [
    "c_prop = pd.concat([o_prop, p_prop], axis=1)\n",
    "c_prop['diff'] = c_prop.predictions - c_prop.original_data\n",
    "c_prop"
   ]
  },
  {
   "cell_type": "markdown",
   "id": "665e4040",
   "metadata": {},
   "source": [
    "So the proportion of spam/not spam between the predictions and the original data is off by about 1.2%. \n",
    "\n",
    "### Conclusion \n",
    "\n",
    "The data is fairly predictive utilizing all features in the dataset. The degree to which one is willing to accept errors or percentage accuracy is dependent on the application of the predictive model. For example, medical models generally demand far higher accuracy to be useful. As a predictive model for spam classification however, a nearly 94% accuracy is significant. One of the takeaways from this assignment is how building a predictive model also provides an additional step in determining which features have predictive significance. While this assignment built a \"kitchen-sink\" model including all features, additional feature selection and transformation may allow better tuning of the model to achieve a higher predictive accuracy. "
   ]
  }
 ],
 "metadata": {
  "kernelspec": {
   "display_name": "Python 3 (ipykernel)",
   "language": "python",
   "name": "python3"
  },
  "language_info": {
   "codemirror_mode": {
    "name": "ipython",
    "version": 3
   },
   "file_extension": ".py",
   "mimetype": "text/x-python",
   "name": "python",
   "nbconvert_exporter": "python",
   "pygments_lexer": "ipython3",
   "version": "3.9.12"
  }
 },
 "nbformat": 4,
 "nbformat_minor": 5
}
