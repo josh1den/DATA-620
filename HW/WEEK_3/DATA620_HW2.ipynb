{
 "cells": [
  {
   "cell_type": "markdown",
   "id": "b847c6d6",
   "metadata": {},
   "source": [
    "# Week 3 - Graph Visualization\n",
    "## Josh Iden  \n",
    "## 2/10/23"
   ]
  },
  {
   "cell_type": "markdown",
   "id": "5e721134",
   "metadata": {},
   "source": [
    "![](HW2-1.png)"
   ]
  },
  {
   "cell_type": "markdown",
   "id": "88c541ac",
   "metadata": {},
   "source": [
    "### Data Source  \n",
    "\n",
    "This assignment uses Reptilia Tortoise Network data from [Network Repository](https://networkrepository.com/reptilia-tortoise-network-pv.php), containing animal interaction data from published studies of wild, captive, and domesticated animals. "
   ]
  }
 ],
 "metadata": {
  "kernelspec": {
   "display_name": "Python 3 (ipykernel)",
   "language": "python",
   "name": "python3"
  },
  "language_info": {
   "codemirror_mode": {
    "name": "ipython",
    "version": 3
   },
   "file_extension": ".py",
   "mimetype": "text/x-python",
   "name": "python",
   "nbconvert_exporter": "python",
   "pygments_lexer": "ipython3",
   "version": "3.9.12"
  }
 },
 "nbformat": 4,
 "nbformat_minor": 5
}
