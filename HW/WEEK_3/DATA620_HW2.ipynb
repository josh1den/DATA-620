{
 "cells": [
  {
   "cell_type": "markdown",
   "id": "dee87d19",
   "metadata": {},
   "source": [
    "# Week 3 - Graph Visualization\n",
    "## Josh Iden  \n",
    "## 2/10/23"
   ]
  },
  {
   "cell_type": "markdown",
   "id": "2efff612",
   "metadata": {},
   "source": [
    "![](HW2-1.png)"
   ]
  },
  {
   "cell_type": "markdown",
   "id": "41536de7",
   "metadata": {},
   "source": [
    "### Data Source  \n",
    "\n",
    "This assignment uses Reptilia Tortoise Network data from [Network Repository](https://networkrepository.com/reptilia-tortoise-network-pv.php), containing animal interaction data from published studies of wild, captive, and domesticated animals. "
   ]
  },
  {
   "cell_type": "markdown",
   "id": "da306ca7",
   "metadata": {},
   "source": [
    "### Loading the Data  "
   ]
  },
  {
   "cell_type": "code",
   "execution_count": 1,
   "id": "942b853f",
   "metadata": {},
   "outputs": [],
   "source": [
    "import networkx as nx # to read, analyze, and visualize the data from pandas\n",
    "import pandas as pd # to read and transform the edge data\n",
    "import matplotlib.pyplot as plt # to customize the graph size\n",
    "%matplotlib inline \n",
    "\n",
    "g = nx.read_edgelist('reptilia-tortoise-network-pv.edges', create_using=nx.MultiDiGraph(), nodetype=int, data=(('year',int),))"
   ]
  },
  {
   "cell_type": "markdown",
   "id": "0131e901",
   "metadata": {},
   "source": [
    "Because there are duplicate edges with different timestamps, we pass `nx.MultiDiGraph()` into the optional `create_using` argument. This took some time to understand. \n",
    "\n",
    "According to the dataset documentation, the network data contains 35 nodes and 104 edges. Let's check to see if this is what our graph object contains:"
   ]
  },
  {
   "cell_type": "code",
   "execution_count": 54,
   "id": "37ae3dcb",
   "metadata": {},
   "outputs": [
    {
     "name": "stderr",
     "output_type": "stream",
     "text": [
      "/var/folders/82/s2jpfjnx23x79yzgnlx3kx_h0000gp/T/ipykernel_36708/3289523897.py:1: DeprecationWarning: info is deprecated and will be removed in version 3.0.\n",
      "\n",
      "  display(nx.info(g))\n"
     ]
    },
    {
     "data": {
      "text/plain": [
       "'MultiDiGraph with 35 nodes and 104 edges'"
      ]
     },
     "metadata": {},
     "output_type": "display_data"
    }
   ],
   "source": [
    "display(nx.info(g))"
   ]
  },
  {
   "cell_type": "markdown",
   "id": "455b577c",
   "metadata": {},
   "source": [
    "It appears the data has been imported correctly. We can get a list of the nodes by passing the Graph object to the `nodes` function:"
   ]
  },
  {
   "cell_type": "code",
   "execution_count": 3,
   "id": "2251de89",
   "metadata": {},
   "outputs": [
    {
     "data": {
      "text/plain": [
       "NodeView((1, 2, 3, 4, 5, 6, 7, 8, 9, 10, 11, 12, 13, 14, 15, 16, 17, 18, 19, 20, 21, 22, 23, 24, 25, 26, 27, 28, 29, 30, 31, 32, 33, 34, 35))"
      ]
     },
     "execution_count": 3,
     "metadata": {},
     "output_type": "execute_result"
    }
   ],
   "source": [
    "# return a list of nodes\n",
    "nx.nodes(g)"
   ]
  },
  {
   "cell_type": "markdown",
   "id": "d6b409e3",
   "metadata": {},
   "source": [
    "We can get a list of node/edge pairs:"
   ]
  },
  {
   "cell_type": "code",
   "execution_count": 4,
   "id": "6c43e3eb",
   "metadata": {},
   "outputs": [
    {
     "name": "stdout",
     "output_type": "stream",
     "text": [
      "{1: {2: {0: {'year': 2005}}, 3: {0: {'year': 2005}}, 4: {0: {'year': 2005}}}, 2: {3: {0: {'year': 2005}}, 4: {0: {'year': 2005}, 1: {'year': 2010}}, 13: {0: {'year': 2008}}, 25: {0: {'year': 2010}}, 16: {0: {'year': 2011}}, 27: {0: {'year': 2011}}}, 3: {4: {0: {'year': 2005}, 1: {'year': 2010}}, 24: {0: {'year': 2010}}, 25: {0: {'year': 2010}}, 2: {0: {'year': 2010}}, 13: {0: {'year': 2010}}}, 4: {}, 5: {6: {0: {'year': 2005}}, 7: {0: {'year': 2005}}, 8: {0: {'year': 2005}}}, 6: {7: {0: {'year': 2005}}}, 7: {8: {0: {'year': 2005}}, 14: {0: {'year': 2009}}, 29: {0: {'year': 2012}, 1: {'year': 2013}}}, 8: {}, 9: {10: {0: {'year': 2005}}, 4: {0: {'year': 2005}}}, 10: {}, 11: {12: {0: {'year': 2008}, 1: {'year': 2011}, 2: {'year': 2012}, 3: {'year': 2013}}, 23: {0: {'year': 2010}, 1: {'year': 2012}, 2: {'year': 2013}}, 29: {0: {'year': 2012}}, 34: {0: {'year': 2013}}}, 12: {29: {0: {'year': 2012}}}, 13: {4: {0: {'year': 2009}}, 3: {0: {'year': 2011}}}, 14: {7: {0: {'year': 2008}, 1: {'year': 2011}, 2: {'year': 2012}, 3: {'year': 2013}}, 29: {0: {'year': 2012}, 1: {'year': 2013}}}, 15: {4: {0: {'year': 2008}}}, 16: {17: {0: {'year': 2008}}, 3: {0: {'year': 2008}, 1: {'year': 2012}}, 18: {0: {'year': 2008}}, 27: {0: {'year': 2012}}}, 17: {3: {0: {'year': 2008}}, 18: {0: {'year': 2008}}}, 18: {3: {0: {'year': 2008}, 1: {'year': 2009}, 2: {'year': 2010}}, 13: {0: {'year': 2009}, 1: {'year': 2010}}, 24: {0: {'year': 2010}}, 25: {0: {'year': 2010}}, 2: {0: {'year': 2010}}, 4: {0: {'year': 2010}, 1: {'year': 2012}}}, 19: {20: {0: {'year': 2008}}}, 20: {}, 21: {22: {0: {'year': 2009}, 1: {'year': 2010}}, 32: {0: {'year': 2012}}, 30: {0: {'year': 2013}}}, 22: {}, 23: {35: {0: {'year': 2013}}}, 24: {25: {0: {'year': 2010}, 1: {'year': 2011}, 2: {'year': 2012}, 3: {'year': 2013}}, 2: {0: {'year': 2010}}, 4: {0: {'year': 2010}, 1: {'year': 2012}, 2: {'year': 2013}}, 18: {0: {'year': 2011}, 1: {'year': 2012}}, 16: {0: {'year': 2013}}}, 25: {4: {0: {'year': 2010}, 1: {'year': 2012}, 2: {'year': 2013}}, 18: {0: {'year': 2011}, 1: {'year': 2012}}, 3: {0: {'year': 2011}}, 31: {0: {'year': 2012}}, 16: {0: {'year': 2013}}}, 26: {2: {0: {'year': 2010}}, 24: {0: {'year': 2010}, 1: {'year': 2011}, 2: {'year': 2012}}, 25: {0: {'year': 2011}, 1: {'year': 2012}}, 30: {0: {'year': 2012}}, 21: {0: {'year': 2012}}}, 27: {}, 28: {4: {0: {'year': 2011}, 1: {'year': 2012}}}, 29: {}, 30: {32: {0: {'year': 2012}}}, 31: {3: {0: {'year': 2012}, 1: {'year': 2013}}, 4: {0: {'year': 2012}}}, 32: {}, 33: {4: {0: {'year': 2012}}}, 34: {}, 35: {7: {0: {'year': 2013}}, 29: {0: {'year': 2013}}}}\n"
     ]
    }
   ],
   "source": [
    "print(g.adj)"
   ]
  },
  {
   "cell_type": "markdown",
   "id": "12d1aaa6",
   "metadata": {},
   "source": [
    "We see the third column timestamp noted earlier. We can also measure the graphs **density**, ie, the ratio of non-zero cells to zero cells -- the lower the density, the larger the network:"
   ]
  },
  {
   "cell_type": "code",
   "execution_count": 119,
   "id": "56a3a444",
   "metadata": {},
   "outputs": [
    {
     "data": {
      "text/plain": [
       "0.087395"
      ]
     },
     "execution_count": 119,
     "metadata": {},
     "output_type": "execute_result"
    }
   ],
   "source": [
    "round(nx.density(g), 7)"
   ]
  },
  {
   "cell_type": "markdown",
   "id": "20fa1cd1",
   "metadata": {},
   "source": [
    "This density does not match the value provided in the data documentation - 0.17479. This is another consequence of the timestamp column. I would like to drop this column from the edgelist, but upon consideration, the easiest way to do this is to create a dataframe of the edgelist in pandas, drop the timestamp column, and read the updated dataframe into a new Graph object:"
   ]
  },
  {
   "cell_type": "code",
   "execution_count": 63,
   "id": "c8dd50b8",
   "metadata": {},
   "outputs": [
    {
     "data": {
      "text/html": [
       "<div>\n",
       "<style scoped>\n",
       "    .dataframe tbody tr th:only-of-type {\n",
       "        vertical-align: middle;\n",
       "    }\n",
       "\n",
       "    .dataframe tbody tr th {\n",
       "        vertical-align: top;\n",
       "    }\n",
       "\n",
       "    .dataframe thead th {\n",
       "        text-align: right;\n",
       "    }\n",
       "</style>\n",
       "<table border=\"1\" class=\"dataframe\">\n",
       "  <thead>\n",
       "    <tr style=\"text-align: right;\">\n",
       "      <th></th>\n",
       "      <th>0</th>\n",
       "      <th>1</th>\n",
       "      <th>2</th>\n",
       "    </tr>\n",
       "  </thead>\n",
       "  <tbody>\n",
       "    <tr>\n",
       "      <th>0</th>\n",
       "      <td>1</td>\n",
       "      <td>2</td>\n",
       "      <td>2005</td>\n",
       "    </tr>\n",
       "    <tr>\n",
       "      <th>1</th>\n",
       "      <td>1</td>\n",
       "      <td>3</td>\n",
       "      <td>2005</td>\n",
       "    </tr>\n",
       "    <tr>\n",
       "      <th>2</th>\n",
       "      <td>1</td>\n",
       "      <td>4</td>\n",
       "      <td>2005</td>\n",
       "    </tr>\n",
       "    <tr>\n",
       "      <th>3</th>\n",
       "      <td>5</td>\n",
       "      <td>6</td>\n",
       "      <td>2005</td>\n",
       "    </tr>\n",
       "    <tr>\n",
       "      <th>4</th>\n",
       "      <td>5</td>\n",
       "      <td>7</td>\n",
       "      <td>2005</td>\n",
       "    </tr>\n",
       "  </tbody>\n",
       "</table>\n",
       "</div>"
      ],
      "text/plain": [
       "   0  1     2\n",
       "0  1  2  2005\n",
       "1  1  3  2005\n",
       "2  1  4  2005\n",
       "3  5  6  2005\n",
       "4  5  7  2005"
      ]
     },
     "execution_count": 63,
     "metadata": {},
     "output_type": "execute_result"
    }
   ],
   "source": [
    "# read in the edge file, columns by space\n",
    "df = pd.read_csv('reptilia-tortoise-network-pv.edges', sep=' ', header=None)\n",
    "df.head()"
   ]
  },
  {
   "cell_type": "code",
   "execution_count": 68,
   "id": "7b66c76c",
   "metadata": {},
   "outputs": [
    {
     "name": "stderr",
     "output_type": "stream",
     "text": [
      "/var/folders/82/s2jpfjnx23x79yzgnlx3kx_h0000gp/T/ipykernel_36708/288811747.py:6: DeprecationWarning: info is deprecated and will be removed in version 3.0.\n",
      "\n",
      "  display(nx.info(G))\n"
     ]
    },
    {
     "data": {
      "text/plain": [
       "'MultiGraph with 35 nodes and 104 edges'"
      ]
     },
     "metadata": {},
     "output_type": "display_data"
    }
   ],
   "source": [
    "# subset the node-edge columns\n",
    "df = df[[0,1]]\n",
    "\n",
    "# read the new dataframe into a Graph object\n",
    "G = nx.from_pandas_edgelist(df, 0, 1, create_using=nx.MultiGraph())\n",
    "display(nx.info(G))"
   ]
  },
  {
   "cell_type": "markdown",
   "id": "6a22cd31",
   "metadata": {},
   "source": [
    "Now let's recheck the density. The expected value provided in the documentation is 0.17479:"
   ]
  },
  {
   "cell_type": "code",
   "execution_count": 121,
   "id": "991e47b3",
   "metadata": {},
   "outputs": [
    {
     "data": {
      "text/plain": [
       "0.17479"
      ]
     },
     "execution_count": 121,
     "metadata": {},
     "output_type": "execute_result"
    }
   ],
   "source": [
    "round(nx.density(G), 5)"
   ]
  },
  {
   "cell_type": "markdown",
   "id": "230ec899",
   "metadata": {},
   "source": [
    "Viewing the adjacency list again to see the edge-node pairs:"
   ]
  },
  {
   "cell_type": "code",
   "execution_count": 114,
   "id": "691cbffa",
   "metadata": {},
   "outputs": [
    {
     "data": {
      "text/plain": [
       "[(1, 2, 0),\n",
       " (1, 3, 0),\n",
       " (1, 4, 0),\n",
       " (2, 3, 0),\n",
       " (2, 3, 1),\n",
       " (2, 4, 0),\n",
       " (2, 4, 1),\n",
       " (2, 13, 0),\n",
       " (2, 18, 0),\n",
       " (2, 26, 0),\n",
       " (2, 24, 0),\n",
       " (2, 25, 0),\n",
       " (2, 16, 0),\n",
       " (2, 27, 0),\n",
       " (3, 4, 0),\n",
       " (3, 4, 1),\n",
       " (3, 16, 0),\n",
       " (3, 16, 1),\n",
       " (3, 17, 0),\n",
       " (3, 18, 0),\n",
       " (3, 18, 1),\n",
       " (3, 18, 2),\n",
       " (3, 24, 0),\n",
       " (3, 25, 0),\n",
       " (3, 25, 1),\n",
       " (3, 13, 0),\n",
       " (3, 13, 1),\n",
       " (3, 31, 0),\n",
       " (3, 31, 1),\n",
       " (4, 9, 0),\n",
       " (4, 15, 0),\n",
       " (4, 13, 0),\n",
       " (4, 18, 0),\n",
       " (4, 18, 1),\n",
       " (4, 24, 0),\n",
       " (4, 24, 1),\n",
       " (4, 24, 2),\n",
       " (4, 25, 0),\n",
       " (4, 25, 1),\n",
       " (4, 25, 2),\n",
       " (4, 28, 0),\n",
       " (4, 28, 1),\n",
       " (4, 33, 0),\n",
       " (4, 31, 0),\n",
       " (5, 6, 0),\n",
       " (5, 7, 0),\n",
       " (5, 8, 0),\n",
       " (6, 7, 0),\n",
       " (7, 8, 0),\n",
       " (7, 14, 0),\n",
       " (7, 14, 1),\n",
       " (7, 14, 2),\n",
       " (7, 14, 3),\n",
       " (7, 14, 4),\n",
       " (7, 29, 0),\n",
       " (7, 29, 1),\n",
       " (7, 35, 0),\n",
       " (9, 10, 0),\n",
       " (11, 12, 0),\n",
       " (11, 12, 1),\n",
       " (11, 12, 2),\n",
       " (11, 12, 3),\n",
       " (11, 23, 0),\n",
       " (11, 23, 1),\n",
       " (11, 23, 2),\n",
       " (11, 29, 0),\n",
       " (11, 34, 0),\n",
       " (12, 29, 0),\n",
       " (13, 18, 0),\n",
       " (13, 18, 1),\n",
       " (14, 29, 0),\n",
       " (14, 29, 1),\n",
       " (16, 17, 0),\n",
       " (16, 18, 0),\n",
       " (16, 27, 0),\n",
       " (16, 24, 0),\n",
       " (16, 25, 0),\n",
       " (17, 18, 0),\n",
       " (18, 24, 0),\n",
       " (18, 24, 1),\n",
       " (18, 24, 2),\n",
       " (18, 25, 0),\n",
       " (18, 25, 1),\n",
       " (18, 25, 2),\n",
       " (19, 20, 0),\n",
       " (21, 22, 0),\n",
       " (21, 22, 1),\n",
       " (21, 26, 0),\n",
       " (21, 32, 0),\n",
       " (21, 30, 0),\n",
       " (23, 35, 0),\n",
       " (24, 26, 0),\n",
       " (24, 26, 1),\n",
       " (24, 26, 2),\n",
       " (24, 25, 0),\n",
       " (24, 25, 1),\n",
       " (24, 25, 2),\n",
       " (24, 25, 3),\n",
       " (25, 26, 0),\n",
       " (25, 26, 1),\n",
       " (25, 31, 0),\n",
       " (26, 30, 0),\n",
       " (29, 35, 0),\n",
       " (30, 32, 0)]"
      ]
     },
     "execution_count": 114,
     "metadata": {},
     "output_type": "execute_result"
    }
   ],
   "source": [
    "list(G.edges)"
   ]
  },
  {
   "cell_type": "markdown",
   "id": "cdd59abe",
   "metadata": {
    "slideshow": {
     "slide_type": "fragment"
    }
   },
   "source": [
    "Now we can plot the graph:"
   ]
  },
  {
   "cell_type": "code",
   "execution_count": 115,
   "id": "000fb89e",
   "metadata": {},
   "outputs": [
    {
     "data": {
      "image/png": "[encoded data removed]",
      "text/plain": [
       "<Figure size 2400x1200 with 1 Axes>"
      ]
     },
     "metadata": {},
     "output_type": "display_data"
    }
   ],
   "source": [
    "plt.figure(1, figsize=(40, 20), dpi=60)\n",
    "nx.draw_networkx(G, with_labels = True, node_size=1500, node_color=\"#ADD8E6\", edgecolors=\"#000000\")"
   ]
  },
  {
   "cell_type": "markdown",
   "id": "274fd6e1",
   "metadata": {},
   "source": [
    "We see three clusters, with nodes 19 and 20 connected only to each other. Let's calculate the diameter of the graph:"
   ]
  },
  {
   "cell_type": "code",
   "execution_count": 116,
   "id": "fb70d47c",
   "metadata": {},
   "outputs": [
    {
     "ename": "NetworkXError",
     "evalue": "Found infinite path length because the graph is not connected",
     "output_type": "error",
     "traceback": [
      "\u001b[0;31m---------------------------------------------------------------------------\u001b[0m",
      "\u001b[0;31mNetworkXError\u001b[0m                             Traceback (most recent call last)",
      "Input \u001b[0;32mIn [116]\u001b[0m, in \u001b[0;36m<cell line: 1>\u001b[0;34m()\u001b[0m\n\u001b[0;32m----> 1\u001b[0m \u001b[43mnx\u001b[49m\u001b[38;5;241;43m.\u001b[39;49m\u001b[43mdiameter\u001b[49m\u001b[43m(\u001b[49m\u001b[43mG\u001b[49m\u001b[43m)\u001b[49m\n",
      "File \u001b[0;32m~/opt/anaconda3/lib/python3.9/site-packages/networkx/algorithms/distance_measures.py:299\u001b[0m, in \u001b[0;36mdiameter\u001b[0;34m(G, e, usebounds)\u001b[0m\n\u001b[1;32m    297\u001b[0m     \u001b[38;5;28;01mreturn\u001b[39;00m extrema_bounding(G, compute\u001b[38;5;241m=\u001b[39m\u001b[38;5;124m\"\u001b[39m\u001b[38;5;124mdiameter\u001b[39m\u001b[38;5;124m\"\u001b[39m)\n\u001b[1;32m    298\u001b[0m \u001b[38;5;28;01mif\u001b[39;00m e \u001b[38;5;129;01mis\u001b[39;00m \u001b[38;5;28;01mNone\u001b[39;00m:\n\u001b[0;32m--> 299\u001b[0m     e \u001b[38;5;241m=\u001b[39m \u001b[43meccentricity\u001b[49m\u001b[43m(\u001b[49m\u001b[43mG\u001b[49m\u001b[43m)\u001b[49m\n\u001b[1;32m    300\u001b[0m \u001b[38;5;28;01mreturn\u001b[39;00m \u001b[38;5;28mmax\u001b[39m(e\u001b[38;5;241m.\u001b[39mvalues())\n",
      "File \u001b[0;32m~/opt/anaconda3/lib/python3.9/site-packages/networkx/algorithms/distance_measures.py:264\u001b[0m, in \u001b[0;36meccentricity\u001b[0;34m(G, v, sp)\u001b[0m\n\u001b[1;32m    262\u001b[0m         \u001b[38;5;28;01melse\u001b[39;00m:\n\u001b[1;32m    263\u001b[0m             msg \u001b[38;5;241m=\u001b[39m \u001b[38;5;124m\"\u001b[39m\u001b[38;5;124mFound infinite path length because the graph is not\u001b[39m\u001b[38;5;124m\"\u001b[39m \u001b[38;5;124m\"\u001b[39m\u001b[38;5;124m connected\u001b[39m\u001b[38;5;124m\"\u001b[39m\n\u001b[0;32m--> 264\u001b[0m         \u001b[38;5;28;01mraise\u001b[39;00m nx\u001b[38;5;241m.\u001b[39mNetworkXError(msg)\n\u001b[1;32m    266\u001b[0m     e[n] \u001b[38;5;241m=\u001b[39m \u001b[38;5;28mmax\u001b[39m(length\u001b[38;5;241m.\u001b[39mvalues())\n\u001b[1;32m    268\u001b[0m \u001b[38;5;28;01mif\u001b[39;00m v \u001b[38;5;129;01min\u001b[39;00m G:\n",
      "\u001b[0;31mNetworkXError\u001b[0m: Found infinite path length because the graph is not connected"
     ]
    }
   ],
   "source": [
    "nx.diameter(G)"
   ]
  },
  {
   "cell_type": "markdown",
   "id": "23bbe259",
   "metadata": {},
   "source": [
    "Networkx's built-in `diameter()` function returned the above error. A list comprehension I sourced from [stack overflow]('https://stackoverflow.com/questions/33114746/why-does-networkx-say-my-directed-graph-is-disconnected-when-finding-diameter') provided a workaround to calculate the maximum eccentricity of the graph, ie the largest number of vertices that must be traversed in order to travel from one vertex to another. "
   ]
  },
  {
   "cell_type": "code",
   "execution_count": 117,
   "id": "a843dc59",
   "metadata": {},
   "outputs": [
    {
     "data": {
      "text/plain": [
       "6"
      ]
     },
     "execution_count": 117,
     "metadata": {},
     "output_type": "execute_result"
    }
   ],
   "source": [
    "diameter = max([max(j.values()) for (i,j) in nx.shortest_path_length(G)])\n",
    "diameter"
   ]
  },
  {
   "cell_type": "markdown",
   "id": "89206156",
   "metadata": {},
   "source": [
    "The maximum distance between vertices in this graph is 6. We can also calculate the minimum, maximum, and average degrees in the graph:"
   ]
  },
  {
   "cell_type": "code",
   "execution_count": 138,
   "id": "936e5b5d",
   "metadata": {},
   "outputs": [
    {
     "name": "stdout",
     "output_type": "stream",
     "text": [
      "Minimum degree:  1\n",
      "Maximum degree:  20\n",
      "Average degree:  6\n"
     ]
    }
   ],
   "source": [
    "degrees = []\n",
    "\n",
    "for i, j in G.degree:\n",
    "    degrees.append(j)\n",
    "    \n",
    "print(\"Minimum degree: \", min(degrees))\n",
    "print(\"Maximum degree: \", max(degrees))\n",
    "print(\"Average degree: \", round(sum(degrees)/len(degrees)))"
   ]
  },
  {
   "cell_type": "markdown",
   "id": "e5b8ddd4",
   "metadata": {},
   "source": [
    "### Findings\n",
    "\n",
    "**Diameter**: The diameter of the graph is 6, representing that maximum number of vertices that must be traversed in order to travel from one vertex to another.\n",
    "\n",
    "**Density**: The density of the graph is 0.17479. A density of 0 represents a graph with no edges, while a density of 1 represents a complete graph. However, a MultiGraph, as this is, can have a density of greater than 1. A lower density indicates a larger network. Considering that this is a multigraph, this seems like a very low number, but the graph is quite small. \n",
    "\n",
    "**Degrees**: Degrees represent the number of edges. The minimum degree of this graph is 1, the maximum is 20, and the average is 6. "
   ]
  },
  {
   "cell_type": "markdown",
   "id": "4e1eb5b1",
   "metadata": {},
   "source": [
    "### Conclusion\n",
    "\n",
    "The real challenge of this assignment was transforming the edge data for networkx. Being my first experience reading data into this package, I spent the large majority of my time understanding the data structures and how to leverage them. In the future when I read data into Networkx my first step will be to pull the data into pandas. \n",
    "\n",
    "Video presentation here: [https://youtu.be/4UVLSPGMtcQ](https://youtu.be/4UVLSPGMtcQ)  \n"
   ]
  }
 ],
 "metadata": {
  "kernelspec": {
   "display_name": "Python 3 (ipykernel)",
   "language": "python",
   "name": "python3"
  },
  "language_info": {
   "codemirror_mode": {
    "name": "ipython",
    "version": 3
   },
   "file_extension": ".py",
   "mimetype": "text/x-python",
   "name": "python",
   "nbconvert_exporter": "python",
   "pygments_lexer": "ipython3",
   "version": "3.7.16"
  }
 },
 "nbformat": 4,
 "nbformat_minor": 5
}
