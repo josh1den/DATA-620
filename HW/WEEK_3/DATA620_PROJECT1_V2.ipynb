{
 "cells": [
  {
   "cell_type": "code",
   "execution_count": null,
   "id": "cc4466f6",
   "metadata": {},
   "outputs": [],
   "source": [
    "\n",
    "fp = '/Users/joshiden/Documents/Classes/CUNY SPS/Spring 2023/DATA620/DATA-620/PROJECTS/PJ1/soc-sign-bitcoinalpha.csv'"
   ]
  }
 ],
 "metadata": {
  "kernelspec": {
   "display_name": "Python 3 (ipykernel)",
   "language": "python",
   "name": "python3"
  },
  "language_info": {
   "codemirror_mode": {
    "name": "ipython",
    "version": 3
   },
   "file_extension": ".py",
   "mimetype": "text/x-python",
   "name": "python",
   "nbconvert_exporter": "python",
   "pygments_lexer": "ipython3",
   "version": "3.7.16"
  }
 },
 "nbformat": 4,
 "nbformat_minor": 5
}
