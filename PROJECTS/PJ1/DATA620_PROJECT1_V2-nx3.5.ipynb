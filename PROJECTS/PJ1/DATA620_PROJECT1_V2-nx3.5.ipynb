{
 "cells": [
  {
   "cell_type": "code",
   "execution_count": 61,
   "id": "b7a1b802",
   "metadata": {},
   "outputs": [],
   "source": [
    "#pip install matplotlib==2.2.3"
   ]
  },
  {
   "cell_type": "code",
   "execution_count": 1,
   "id": "5f58b5fa",
   "metadata": {},
   "outputs": [
    {
     "data": {
      "text/html": [
       "<div>\n",
       "<style scoped>\n",
       "    .dataframe tbody tr th:only-of-type {\n",
       "        vertical-align: middle;\n",
       "    }\n",
       "\n",
       "    .dataframe tbody tr th {\n",
       "        vertical-align: top;\n",
       "    }\n",
       "\n",
       "    .dataframe thead th {\n",
       "        text-align: right;\n",
       "    }\n",
       "</style>\n",
       "<table border=\"1\" class=\"dataframe\">\n",
       "  <thead>\n",
       "    <tr style=\"text-align: right;\">\n",
       "      <th></th>\n",
       "      <th>SOURCE</th>\n",
       "      <th>TARGET</th>\n",
       "      <th>RATING</th>\n",
       "      <th>TIME</th>\n",
       "    </tr>\n",
       "  </thead>\n",
       "  <tbody>\n",
       "    <tr>\n",
       "      <th>0</th>\n",
       "      <td>7188</td>\n",
       "      <td>1</td>\n",
       "      <td>10</td>\n",
       "      <td>1407470400</td>\n",
       "    </tr>\n",
       "    <tr>\n",
       "      <th>1</th>\n",
       "      <td>430</td>\n",
       "      <td>1</td>\n",
       "      <td>10</td>\n",
       "      <td>1376539200</td>\n",
       "    </tr>\n",
       "    <tr>\n",
       "      <th>2</th>\n",
       "      <td>3134</td>\n",
       "      <td>1</td>\n",
       "      <td>10</td>\n",
       "      <td>1369713600</td>\n",
       "    </tr>\n",
       "    <tr>\n",
       "      <th>3</th>\n",
       "      <td>3026</td>\n",
       "      <td>1</td>\n",
       "      <td>10</td>\n",
       "      <td>1350014400</td>\n",
       "    </tr>\n",
       "    <tr>\n",
       "      <th>4</th>\n",
       "      <td>3010</td>\n",
       "      <td>1</td>\n",
       "      <td>10</td>\n",
       "      <td>1347854400</td>\n",
       "    </tr>\n",
       "  </tbody>\n",
       "</table>\n",
       "</div>"
      ],
      "text/plain": [
       "   SOURCE  TARGET  RATING        TIME\n",
       "0    7188       1      10  1407470400\n",
       "1     430       1      10  1376539200\n",
       "2    3134       1      10  1369713600\n",
       "3    3026       1      10  1350014400\n",
       "4    3010       1      10  1347854400"
      ]
     },
     "execution_count": 1,
     "metadata": {},
     "output_type": "execute_result"
    }
   ],
   "source": [
    "import pandas as pd\n",
    "import numpy as np\n",
    "import networkx as nx\n",
    "import matplotlib.pyplot as plt\n",
    "%matplotlib inline\n",
    "\n",
    "fp = 'soc-sign-bitcoinalpha.csv'\n",
    "df = pd.read_csv(fp, header=None, names=['SOURCE','TARGET','RATING','TIME'])\n",
    "\n",
    "df.head()"
   ]
  },
  {
   "cell_type": "code",
   "execution_count": 2,
   "id": "b7225c3c",
   "metadata": {},
   "outputs": [
    {
     "data": {
      "text/html": [
       "<div>\n",
       "<style scoped>\n",
       "    .dataframe tbody tr th:only-of-type {\n",
       "        vertical-align: middle;\n",
       "    }\n",
       "\n",
       "    .dataframe tbody tr th {\n",
       "        vertical-align: top;\n",
       "    }\n",
       "\n",
       "    .dataframe thead th {\n",
       "        text-align: right;\n",
       "    }\n",
       "</style>\n",
       "<table border=\"1\" class=\"dataframe\">\n",
       "  <thead>\n",
       "    <tr style=\"text-align: right;\">\n",
       "      <th></th>\n",
       "      <th>SOURCE</th>\n",
       "      <th>TARGET</th>\n",
       "      <th>RATING</th>\n",
       "      <th>TIME</th>\n",
       "    </tr>\n",
       "  </thead>\n",
       "  <tbody>\n",
       "    <tr>\n",
       "      <th>count</th>\n",
       "      <td>24186.000000</td>\n",
       "      <td>24186.000000</td>\n",
       "      <td>24186.000000</td>\n",
       "      <td>2.418600e+04</td>\n",
       "    </tr>\n",
       "    <tr>\n",
       "      <th>mean</th>\n",
       "      <td>864.029314</td>\n",
       "      <td>1051.093815</td>\n",
       "      <td>1.463946</td>\n",
       "      <td>1.347099e+09</td>\n",
       "    </tr>\n",
       "    <tr>\n",
       "      <th>std</th>\n",
       "      <td>1592.085638</td>\n",
       "      <td>1871.765504</td>\n",
       "      <td>2.903656</td>\n",
       "      <td>3.397039e+07</td>\n",
       "    </tr>\n",
       "    <tr>\n",
       "      <th>min</th>\n",
       "      <td>1.000000</td>\n",
       "      <td>1.000000</td>\n",
       "      <td>-10.000000</td>\n",
       "      <td>1.289192e+09</td>\n",
       "    </tr>\n",
       "    <tr>\n",
       "      <th>25%</th>\n",
       "      <td>58.000000</td>\n",
       "      <td>66.000000</td>\n",
       "      <td>1.000000</td>\n",
       "      <td>1.312690e+09</td>\n",
       "    </tr>\n",
       "    <tr>\n",
       "      <th>50%</th>\n",
       "      <td>238.000000</td>\n",
       "      <td>279.000000</td>\n",
       "      <td>1.000000</td>\n",
       "      <td>1.345435e+09</td>\n",
       "    </tr>\n",
       "    <tr>\n",
       "      <th>75%</th>\n",
       "      <td>898.000000</td>\n",
       "      <td>1068.000000</td>\n",
       "      <td>2.000000</td>\n",
       "      <td>1.369454e+09</td>\n",
       "    </tr>\n",
       "    <tr>\n",
       "      <th>max</th>\n",
       "      <td>7604.000000</td>\n",
       "      <td>7604.000000</td>\n",
       "      <td>10.000000</td>\n",
       "      <td>1.453439e+09</td>\n",
       "    </tr>\n",
       "  </tbody>\n",
       "</table>\n",
       "</div>"
      ],
      "text/plain": [
       "             SOURCE        TARGET        RATING          TIME\n",
       "count  24186.000000  24186.000000  24186.000000  2.418600e+04\n",
       "mean     864.029314   1051.093815      1.463946  1.347099e+09\n",
       "std     1592.085638   1871.765504      2.903656  3.397039e+07\n",
       "min        1.000000      1.000000    -10.000000  1.289192e+09\n",
       "25%       58.000000     66.000000      1.000000  1.312690e+09\n",
       "50%      238.000000    279.000000      1.000000  1.345435e+09\n",
       "75%      898.000000   1068.000000      2.000000  1.369454e+09\n",
       "max     7604.000000   7604.000000     10.000000  1.453439e+09"
      ]
     },
     "execution_count": 2,
     "metadata": {},
     "output_type": "execute_result"
    }
   ],
   "source": [
    "df.describe()"
   ]
  },
  {
   "cell_type": "code",
   "execution_count": 27,
   "id": "63fd5fe9",
   "metadata": {},
   "outputs": [
    {
     "name": "stdout",
     "output_type": "stream",
     "text": [
      "<class 'pandas.core.frame.DataFrame'>\n",
      "RangeIndex: 24186 entries, 0 to 24185\n",
      "Data columns (total 4 columns):\n",
      " #   Column  Non-Null Count  Dtype   \n",
      "---  ------  --------------  -----   \n",
      " 0   SOURCE  24186 non-null  int64   \n",
      " 1   TARGET  24186 non-null  int64   \n",
      " 2   RATING  9614 non-null   category\n",
      " 3   TIME    24186 non-null  int64   \n",
      "dtypes: category(1), int64(3)\n",
      "memory usage: 590.8 KB\n"
     ]
    }
   ],
   "source": [
    "df.info()"
   ]
  },
  {
   "cell_type": "code",
   "execution_count": 43,
   "id": "9596020e",
   "metadata": {},
   "outputs": [
    {
     "data": {
      "text/plain": [
       " 1     13760\n",
       " 2      4113\n",
       " 3      1933\n",
       " 5       957\n",
       "-10      812\n",
       " 4       744\n",
       " 10      494\n",
       "-1       429\n",
       " 8       224\n",
       " 6       201\n",
       " 7       149\n",
       "-5       112\n",
       " 9        75\n",
       "-2        68\n",
       "-3        62\n",
       "-8        15\n",
       "-4        14\n",
       "-9        13\n",
       "-6         6\n",
       "-7         5\n",
       "Name: RATING, dtype: int64"
      ]
     },
     "execution_count": 43,
     "metadata": {},
     "output_type": "execute_result"
    }
   ],
   "source": [
    "df.RATING.value_counts()"
   ]
  },
  {
   "cell_type": "markdown",
   "id": "749c84ce",
   "metadata": {},
   "source": [
    "We see `RATING` is a category ranging from -10 to 10."
   ]
  },
  {
   "cell_type": "code",
   "execution_count": 3,
   "id": "ff98a910",
   "metadata": {},
   "outputs": [
    {
     "data": {
      "text/html": [
       "<div>\n",
       "<style scoped>\n",
       "    .dataframe tbody tr th:only-of-type {\n",
       "        vertical-align: middle;\n",
       "    }\n",
       "\n",
       "    .dataframe tbody tr th {\n",
       "        vertical-align: top;\n",
       "    }\n",
       "\n",
       "    .dataframe thead th {\n",
       "        text-align: right;\n",
       "    }\n",
       "</style>\n",
       "<table border=\"1\" class=\"dataframe\">\n",
       "  <thead>\n",
       "    <tr style=\"text-align: right;\">\n",
       "      <th></th>\n",
       "      <th>SOURCE</th>\n",
       "      <th>TARGET</th>\n",
       "      <th>RATING</th>\n",
       "    </tr>\n",
       "  </thead>\n",
       "  <tbody>\n",
       "    <tr>\n",
       "      <th>0</th>\n",
       "      <td>7188</td>\n",
       "      <td>1</td>\n",
       "      <td>10</td>\n",
       "    </tr>\n",
       "    <tr>\n",
       "      <th>1</th>\n",
       "      <td>430</td>\n",
       "      <td>1</td>\n",
       "      <td>10</td>\n",
       "    </tr>\n",
       "    <tr>\n",
       "      <th>2</th>\n",
       "      <td>3134</td>\n",
       "      <td>1</td>\n",
       "      <td>10</td>\n",
       "    </tr>\n",
       "    <tr>\n",
       "      <th>3</th>\n",
       "      <td>3026</td>\n",
       "      <td>1</td>\n",
       "      <td>10</td>\n",
       "    </tr>\n",
       "    <tr>\n",
       "      <th>4</th>\n",
       "      <td>3010</td>\n",
       "      <td>1</td>\n",
       "      <td>10</td>\n",
       "    </tr>\n",
       "  </tbody>\n",
       "</table>\n",
       "</div>"
      ],
      "text/plain": [
       "   SOURCE  TARGET  RATING\n",
       "0    7188       1      10\n",
       "1     430       1      10\n",
       "2    3134       1      10\n",
       "3    3026       1      10\n",
       "4    3010       1      10"
      ]
     },
     "execution_count": 3,
     "metadata": {},
     "output_type": "execute_result"
    }
   ],
   "source": [
    "# create a copy of the dataframe: df1\n",
    "df1 = df.iloc[:,0:3]\n",
    "df1.head()"
   ]
  },
  {
   "cell_type": "code",
   "execution_count": 4,
   "id": "591f3b2c",
   "metadata": {},
   "outputs": [
    {
     "name": "stdout",
     "output_type": "stream",
     "text": [
      "Name: \n",
      "Type: DiGraph\n",
      "Number of nodes: 3783\n",
      "Number of edges: 24186\n",
      "Average in degree:   6.3933\n",
      "Average out degree:   6.3933\n"
     ]
    }
   ],
   "source": [
    "# read the dataframe into a graph object\n",
    "G = nx.from_pandas_dataframe(df1, 'SOURCE', 'TARGET', edge_attr='RATING', create_using=nx.DiGraph())\n",
    "print(nx.info(G))"
   ]
  },
  {
   "cell_type": "code",
   "execution_count": null,
   "id": "f07c9291",
   "metadata": {},
   "outputs": [],
   "source": [
    "nx.draw_networkx(G);"
   ]
  },
  {
   "cell_type": "markdown",
   "id": "ba51a624",
   "metadata": {},
   "source": [
    "This isn't very informative, but it's a cool looking graphic. "
   ]
  },
  {
   "cell_type": "code",
   "execution_count": 26,
   "id": "e74779b7",
   "metadata": {},
   "outputs": [
    {
     "name": "stdout",
     "output_type": "stream",
     "text": [
      "<class 'pandas.core.frame.DataFrame'>\n",
      "RangeIndex: 24186 entries, 0 to 24185\n",
      "Data columns (total 4 columns):\n",
      " #   Column  Non-Null Count  Dtype   \n",
      "---  ------  --------------  -----   \n",
      " 0   SOURCE  24186 non-null  int64   \n",
      " 1   TARGET  24186 non-null  int64   \n",
      " 2   RATING  9614 non-null   category\n",
      " 3   TIME    24186 non-null  int64   \n",
      "dtypes: category(1), int64(3)\n",
      "memory usage: 590.8 KB\n"
     ]
    }
   ],
   "source": [
    "df.info()"
   ]
  }
 ],
 "metadata": {
  "kernelspec": {
   "display_name": "Python 3 (ipykernel)",
   "language": "python",
   "name": "python3"
  },
  "language_info": {
   "codemirror_mode": {
    "name": "ipython",
    "version": 3
   },
   "file_extension": ".py",
   "mimetype": "text/x-python",
   "name": "python",
   "nbconvert_exporter": "python",
   "pygments_lexer": "ipython3",
   "version": "3.7.16"
  }
 },
 "nbformat": 4,
 "nbformat_minor": 5
}
