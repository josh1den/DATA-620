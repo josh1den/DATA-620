{
 "cells": [
  {
   "cell_type": "markdown",
   "id": "26cf098f",
   "metadata": {},
   "source": [
    "# Week 5 - Project 1\n",
    "## Josh Iden  \n",
    "### 2/21/23"
   ]
  },
  {
   "cell_type": "markdown",
   "id": "33134316",
   "metadata": {},
   "source": [
    "![](PROJECT_1.png)"
   ]
  },
  {
   "cell_type": "markdown",
   "id": "56c86782",
   "metadata": {},
   "source": [
    "## Introduction  \n",
    "\n",
    "This project will look at the **Social Network: MOOC User Action Dataset** data compiled by the Stanford Network Analysis Project (SNAP). \n",
    "\n",
    "Source: [https://snap.stanford.edu/data/act-mooc.html](https://snap.stanford.edu/data/act-mooc.html)\n",
    "\n",
    "From dataset documentation:\n",
    "\n",
    "*The MOOC user action dataset represents the actions taken by users on a popular MOOC platform. The actions are represented as a directed, temporal network. The nodes represent users and course activities (targets), and edges represent the actions by users on the targets. The actions have attributes and timestamps. To protect user privacy, we anonimize the users and timestamps are standardized to start from timestamp 0. The dataset is directed, temporal, and attributed.*\n",
    "\n",
    "*Additionally, each action has a binary label, representing whether the user dropped-out of the course after this action, i.e., whether this is last action of the user.*\n",
    "\n",
    "This analysis will focus on the hypothetical outcome, can degree centrality be used to predict the total number of actions taken before dropping out of the course. \n",
    "\n",
    "## The Data\n",
    "\n",
    "The dataset contains three files:  \n",
    "\n",
    "**mooc_actions.tsv**, \t*Time-ordered sequence of user actions.*  \n",
    "**mooc_action_features.tsv**,  \t*Features associated with each action.*  \n",
    "**mooc_action_labels.tsv**, \t*Binary label associated with each action, indicating whether the student drops-out after the action.*  \n",
    "\n",
    "Loading the data into pandas:"
   ]
  },
  {
   "cell_type": "code",
   "execution_count": 7,
   "id": "b9bdc4e2",
   "metadata": {},
   "outputs": [],
   "source": [
    "import pandas as pd\n",
    "import networkx as nx\n",
    "import matplotlib.pyplot as plt\n",
    "\n",
    "actions_fp = \"act-mooc/mooc_actions.tsv\" \n",
    "features_fp = \"act-mooc/mooc_action_features.tsv\" \n",
    "labels_fp = \"act-mooc/mooc_action_labels.tsv\"\n",
    "\n",
    "actions = pd.read_csv(actions_fp, sep =\"\\t\")\n",
    "features = pd.read_csv(features_fp, sep = \"\\t\")\n",
    "labels = pd.read_csv(labels_fp, sep = \"\\t\")"
   ]
  },
  {
   "cell_type": "code",
   "execution_count": 8,
   "id": "be63f02b",
   "metadata": {},
   "outputs": [
    {
     "data": {
      "text/html": [
       "<div>\n",
       "<style scoped>\n",
       "    .dataframe tbody tr th:only-of-type {\n",
       "        vertical-align: middle;\n",
       "    }\n",
       "\n",
       "    .dataframe tbody tr th {\n",
       "        vertical-align: top;\n",
       "    }\n",
       "\n",
       "    .dataframe thead th {\n",
       "        text-align: right;\n",
       "    }\n",
       "</style>\n",
       "<table border=\"1\" class=\"dataframe\">\n",
       "  <thead>\n",
       "    <tr style=\"text-align: right;\">\n",
       "      <th></th>\n",
       "      <th>ACTIONID</th>\n",
       "      <th>USERID</th>\n",
       "      <th>TARGETID</th>\n",
       "      <th>TIMESTAMP</th>\n",
       "    </tr>\n",
       "  </thead>\n",
       "  <tbody>\n",
       "    <tr>\n",
       "      <th>0</th>\n",
       "      <td>0</td>\n",
       "      <td>0</td>\n",
       "      <td>0</td>\n",
       "      <td>0.0</td>\n",
       "    </tr>\n",
       "    <tr>\n",
       "      <th>1</th>\n",
       "      <td>1</td>\n",
       "      <td>0</td>\n",
       "      <td>1</td>\n",
       "      <td>6.0</td>\n",
       "    </tr>\n",
       "    <tr>\n",
       "      <th>2</th>\n",
       "      <td>2</td>\n",
       "      <td>0</td>\n",
       "      <td>2</td>\n",
       "      <td>41.0</td>\n",
       "    </tr>\n",
       "    <tr>\n",
       "      <th>3</th>\n",
       "      <td>3</td>\n",
       "      <td>0</td>\n",
       "      <td>1</td>\n",
       "      <td>49.0</td>\n",
       "    </tr>\n",
       "    <tr>\n",
       "      <th>4</th>\n",
       "      <td>4</td>\n",
       "      <td>0</td>\n",
       "      <td>2</td>\n",
       "      <td>51.0</td>\n",
       "    </tr>\n",
       "  </tbody>\n",
       "</table>\n",
       "</div>"
      ],
      "text/plain": [
       "   ACTIONID  USERID  TARGETID  TIMESTAMP\n",
       "0         0       0         0        0.0\n",
       "1         1       0         1        6.0\n",
       "2         2       0         2       41.0\n",
       "3         3       0         1       49.0\n",
       "4         4       0         2       51.0"
      ]
     },
     "execution_count": 8,
     "metadata": {},
     "output_type": "execute_result"
    }
   ],
   "source": [
    "# preview actions file \n",
    "actions.head()"
   ]
  },
  {
   "cell_type": "code",
   "execution_count": 9,
   "id": "d664cb26",
   "metadata": {},
   "outputs": [
    {
     "data": {
      "text/html": [
       "<div>\n",
       "<style scoped>\n",
       "    .dataframe tbody tr th:only-of-type {\n",
       "        vertical-align: middle;\n",
       "    }\n",
       "\n",
       "    .dataframe tbody tr th {\n",
       "        vertical-align: top;\n",
       "    }\n",
       "\n",
       "    .dataframe thead th {\n",
       "        text-align: right;\n",
       "    }\n",
       "</style>\n",
       "<table border=\"1\" class=\"dataframe\">\n",
       "  <thead>\n",
       "    <tr style=\"text-align: right;\">\n",
       "      <th></th>\n",
       "      <th>ACTIONID</th>\n",
       "      <th>FEATURE0</th>\n",
       "      <th>FEATURE1</th>\n",
       "      <th>FEATURE2</th>\n",
       "      <th>FEATURE3</th>\n",
       "    </tr>\n",
       "  </thead>\n",
       "  <tbody>\n",
       "    <tr>\n",
       "      <th>0</th>\n",
       "      <td>0</td>\n",
       "      <td>-0.319991</td>\n",
       "      <td>-0.435701</td>\n",
       "      <td>0.106784</td>\n",
       "      <td>-0.067309</td>\n",
       "    </tr>\n",
       "    <tr>\n",
       "      <th>1</th>\n",
       "      <td>1</td>\n",
       "      <td>-0.319991</td>\n",
       "      <td>-0.435701</td>\n",
       "      <td>0.106784</td>\n",
       "      <td>-0.067309</td>\n",
       "    </tr>\n",
       "    <tr>\n",
       "      <th>2</th>\n",
       "      <td>2</td>\n",
       "      <td>-0.319991</td>\n",
       "      <td>-0.435701</td>\n",
       "      <td>0.106784</td>\n",
       "      <td>-0.067309</td>\n",
       "    </tr>\n",
       "    <tr>\n",
       "      <th>3</th>\n",
       "      <td>3</td>\n",
       "      <td>-0.319991</td>\n",
       "      <td>-0.435701</td>\n",
       "      <td>0.106784</td>\n",
       "      <td>-0.067309</td>\n",
       "    </tr>\n",
       "    <tr>\n",
       "      <th>4</th>\n",
       "      <td>4</td>\n",
       "      <td>-0.319991</td>\n",
       "      <td>-0.435701</td>\n",
       "      <td>0.106784</td>\n",
       "      <td>-0.067309</td>\n",
       "    </tr>\n",
       "  </tbody>\n",
       "</table>\n",
       "</div>"
      ],
      "text/plain": [
       "   ACTIONID  FEATURE0  FEATURE1  FEATURE2  FEATURE3\n",
       "0         0 -0.319991 -0.435701  0.106784 -0.067309\n",
       "1         1 -0.319991 -0.435701  0.106784 -0.067309\n",
       "2         2 -0.319991 -0.435701  0.106784 -0.067309\n",
       "3         3 -0.319991 -0.435701  0.106784 -0.067309\n",
       "4         4 -0.319991 -0.435701  0.106784 -0.067309"
      ]
     },
     "execution_count": 9,
     "metadata": {},
     "output_type": "execute_result"
    }
   ],
   "source": [
    "# preview features file \n",
    "features.head()"
   ]
  },
  {
   "cell_type": "code",
   "execution_count": 10,
   "id": "f88a14aa",
   "metadata": {},
   "outputs": [
    {
     "data": {
      "text/html": [
       "<div>\n",
       "<style scoped>\n",
       "    .dataframe tbody tr th:only-of-type {\n",
       "        vertical-align: middle;\n",
       "    }\n",
       "\n",
       "    .dataframe tbody tr th {\n",
       "        vertical-align: top;\n",
       "    }\n",
       "\n",
       "    .dataframe thead th {\n",
       "        text-align: right;\n",
       "    }\n",
       "</style>\n",
       "<table border=\"1\" class=\"dataframe\">\n",
       "  <thead>\n",
       "    <tr style=\"text-align: right;\">\n",
       "      <th></th>\n",
       "      <th>ACTIONID</th>\n",
       "      <th>LABEL</th>\n",
       "    </tr>\n",
       "  </thead>\n",
       "  <tbody>\n",
       "    <tr>\n",
       "      <th>0</th>\n",
       "      <td>0</td>\n",
       "      <td>0</td>\n",
       "    </tr>\n",
       "    <tr>\n",
       "      <th>1</th>\n",
       "      <td>1</td>\n",
       "      <td>0</td>\n",
       "    </tr>\n",
       "    <tr>\n",
       "      <th>2</th>\n",
       "      <td>2</td>\n",
       "      <td>0</td>\n",
       "    </tr>\n",
       "    <tr>\n",
       "      <th>3</th>\n",
       "      <td>3</td>\n",
       "      <td>0</td>\n",
       "    </tr>\n",
       "    <tr>\n",
       "      <th>4</th>\n",
       "      <td>4</td>\n",
       "      <td>0</td>\n",
       "    </tr>\n",
       "  </tbody>\n",
       "</table>\n",
       "</div>"
      ],
      "text/plain": [
       "   ACTIONID  LABEL\n",
       "0         0      0\n",
       "1         1      0\n",
       "2         2      0\n",
       "3         3      0\n",
       "4         4      0"
      ]
     },
     "execution_count": 10,
     "metadata": {},
     "output_type": "execute_result"
    }
   ],
   "source": [
    "# preview labels file\n",
    "labels.head()"
   ]
  },
  {
   "cell_type": "markdown",
   "id": "8797dc02",
   "metadata": {},
   "source": [
    "For this project, we are only focusing on the `actions` and `labels` data. I'd like to combine these two datasets using the `ACTIONID` column. Let's make sure we have the same number of rows in each dataframe. "
   ]
  },
  {
   "cell_type": "code",
   "execution_count": 18,
   "id": "018c8525",
   "metadata": {},
   "outputs": [
    {
     "data": {
      "text/plain": [
       "True"
      ]
     },
     "execution_count": 18,
     "metadata": {},
     "output_type": "execute_result"
    }
   ],
   "source": [
    "actions.shape[0] == labels.shape[0]"
   ]
  },
  {
   "cell_type": "code",
   "execution_count": 43,
   "id": "621277a3",
   "metadata": {},
   "outputs": [
    {
     "data": {
      "text/html": [
       "<div>\n",
       "<style scoped>\n",
       "    .dataframe tbody tr th:only-of-type {\n",
       "        vertical-align: middle;\n",
       "    }\n",
       "\n",
       "    .dataframe tbody tr th {\n",
       "        vertical-align: top;\n",
       "    }\n",
       "\n",
       "    .dataframe thead th {\n",
       "        text-align: right;\n",
       "    }\n",
       "</style>\n",
       "<table border=\"1\" class=\"dataframe\">\n",
       "  <thead>\n",
       "    <tr style=\"text-align: right;\">\n",
       "      <th></th>\n",
       "      <th>ACTIONID</th>\n",
       "      <th>USERID</th>\n",
       "      <th>LABEL</th>\n",
       "    </tr>\n",
       "  </thead>\n",
       "  <tbody>\n",
       "    <tr>\n",
       "      <th>0</th>\n",
       "      <td>0</td>\n",
       "      <td>0</td>\n",
       "      <td>0</td>\n",
       "    </tr>\n",
       "    <tr>\n",
       "      <th>1</th>\n",
       "      <td>1</td>\n",
       "      <td>0</td>\n",
       "      <td>0</td>\n",
       "    </tr>\n",
       "    <tr>\n",
       "      <th>2</th>\n",
       "      <td>2</td>\n",
       "      <td>0</td>\n",
       "      <td>0</td>\n",
       "    </tr>\n",
       "    <tr>\n",
       "      <th>3</th>\n",
       "      <td>3</td>\n",
       "      <td>0</td>\n",
       "      <td>0</td>\n",
       "    </tr>\n",
       "    <tr>\n",
       "      <th>4</th>\n",
       "      <td>4</td>\n",
       "      <td>0</td>\n",
       "      <td>0</td>\n",
       "    </tr>\n",
       "  </tbody>\n",
       "</table>\n",
       "</div>"
      ],
      "text/plain": [
       "   ACTIONID  USERID  LABEL\n",
       "0         0       0      0\n",
       "1         1       0      0\n",
       "2         2       0      0\n",
       "3         3       0      0\n",
       "4         4       0      0"
      ]
     },
     "execution_count": 43,
     "metadata": {},
     "output_type": "execute_result"
    }
   ],
   "source": [
    "# subset the first two columns of actions data\n",
    "actions.copy = actions.iloc[:,:2]\n",
    "\n",
    "# join the datasets\n",
    "df = pd.merge(actions.copy, labels, how=\"left\", on=\"ACTIONID\")\n",
    "df[\"LABEL\"] = df[\"LABEL\"].astype('Int64')\n",
    "df.head()"
   ]
  },
  {
   "cell_type": "code",
   "execution_count": 44,
   "id": "b8daea20",
   "metadata": {},
   "outputs": [
    {
     "data": {
      "text/html": [
       "<div>\n",
       "<style scoped>\n",
       "    .dataframe tbody tr th:only-of-type {\n",
       "        vertical-align: middle;\n",
       "    }\n",
       "\n",
       "    .dataframe tbody tr th {\n",
       "        vertical-align: top;\n",
       "    }\n",
       "\n",
       "    .dataframe thead th {\n",
       "        text-align: right;\n",
       "    }\n",
       "</style>\n",
       "<table border=\"1\" class=\"dataframe\">\n",
       "  <thead>\n",
       "    <tr style=\"text-align: right;\">\n",
       "      <th></th>\n",
       "      <th>ACTIONID</th>\n",
       "      <th>USERID</th>\n",
       "      <th>LABEL</th>\n",
       "    </tr>\n",
       "  </thead>\n",
       "  <tbody>\n",
       "    <tr>\n",
       "      <th>count</th>\n",
       "      <td>426865.000000</td>\n",
       "      <td>426865.000000</td>\n",
       "      <td>411749.000000</td>\n",
       "    </tr>\n",
       "    <tr>\n",
       "      <th>mean</th>\n",
       "      <td>205264.204072</td>\n",
       "      <td>3044.392241</td>\n",
       "      <td>0.009875</td>\n",
       "    </tr>\n",
       "    <tr>\n",
       "      <th>std</th>\n",
       "      <td>118861.618527</td>\n",
       "      <td>1978.684215</td>\n",
       "      <td>0.098881</td>\n",
       "    </tr>\n",
       "    <tr>\n",
       "      <th>min</th>\n",
       "      <td>0.000000</td>\n",
       "      <td>0.000000</td>\n",
       "      <td>0.000000</td>\n",
       "    </tr>\n",
       "    <tr>\n",
       "      <th>25%</th>\n",
       "      <td>102390.000000</td>\n",
       "      <td>1277.000000</td>\n",
       "      <td>0.000000</td>\n",
       "    </tr>\n",
       "    <tr>\n",
       "      <th>50%</th>\n",
       "      <td>204927.000000</td>\n",
       "      <td>2846.000000</td>\n",
       "      <td>0.000000</td>\n",
       "    </tr>\n",
       "    <tr>\n",
       "      <th>75%</th>\n",
       "      <td>308092.000000</td>\n",
       "      <td>4715.000000</td>\n",
       "      <td>0.000000</td>\n",
       "    </tr>\n",
       "    <tr>\n",
       "      <th>max</th>\n",
       "      <td>411748.000000</td>\n",
       "      <td>7046.000000</td>\n",
       "      <td>1.000000</td>\n",
       "    </tr>\n",
       "  </tbody>\n",
       "</table>\n",
       "</div>"
      ],
      "text/plain": [
       "            ACTIONID         USERID          LABEL\n",
       "count  426865.000000  426865.000000  411749.000000\n",
       "mean   205264.204072    3044.392241       0.009875\n",
       "std    118861.618527    1978.684215       0.098881\n",
       "min         0.000000       0.000000       0.000000\n",
       "25%    102390.000000    1277.000000       0.000000\n",
       "50%    204927.000000    2846.000000       0.000000\n",
       "75%    308092.000000    4715.000000       0.000000\n",
       "max    411748.000000    7046.000000       1.000000"
      ]
     },
     "execution_count": 44,
     "metadata": {},
     "output_type": "execute_result"
    }
   ],
   "source": [
    "df.describe()"
   ]
  },
  {
   "cell_type": "code",
   "execution_count": 25,
   "id": "10e80967",
   "metadata": {},
   "outputs": [
    {
     "name": "stdout",
     "output_type": "stream",
     "text": [
      "<class 'pandas.core.frame.DataFrame'>\n",
      "RangeIndex: 411749 entries, 0 to 411748\n",
      "Data columns (total 4 columns):\n",
      " #   Column     Non-Null Count   Dtype  \n",
      "---  ------     --------------   -----  \n",
      " 0   ACTIONID   411749 non-null  int64  \n",
      " 1   USERID     411749 non-null  int64  \n",
      " 2   TARGETID   411749 non-null  int64  \n",
      " 3   TIMESTAMP  411749 non-null  float64\n",
      "dtypes: float64(1), int64(3)\n",
      "memory usage: 12.6 MB\n"
     ]
    }
   ],
   "source": [
    "actions.info()"
   ]
  }
 ],
 "metadata": {
  "kernelspec": {
   "display_name": "Python 3 (ipykernel)",
   "language": "python",
   "name": "python3"
  },
  "language_info": {
   "codemirror_mode": {
    "name": "ipython",
    "version": 3
   },
   "file_extension": ".py",
   "mimetype": "text/x-python",
   "name": "python",
   "nbconvert_exporter": "python",
   "pygments_lexer": "ipython3",
   "version": "3.9.12"
  }
 },
 "nbformat": 4,
 "nbformat_minor": 5
}
